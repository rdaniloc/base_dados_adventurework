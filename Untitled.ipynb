{
 "cells": [
  {
   "cell_type": "markdown",
   "id": "af5b4f87",
   "metadata": {},
   "source": [
    "# 1. Tratamento dos dados"
   ]
  },
  {
   "cell_type": "code",
   "execution_count": 1,
   "id": "c6734215",
   "metadata": {},
   "outputs": [],
   "source": [
    "import pandas as pd\n",
    "import matplotlib.pyplot as plt\n",
    "plt.style.use(\"seaborn\")\n",
    "import warnings\n",
    "warnings.simplefilter(action='ignore', category=FutureWarning)"
   ]
  },
  {
   "cell_type": "code",
   "execution_count": 2,
   "id": "d3616d5a",
   "metadata": {
    "scrolled": true
   },
   "outputs": [],
   "source": [
    "df = pd.read_excel(\"AdventureWorks.xlsx\")"
   ]
  },
  {
   "cell_type": "markdown",
   "id": "feddd943",
   "metadata": {},
   "source": [
    "## 1.1. Tratamento da base de dados geral"
   ]
  },
  {
   "cell_type": "code",
   "execution_count": 3,
   "id": "1c6b166e",
   "metadata": {},
   "outputs": [
    {
     "data": {
      "text/html": [
       "<div>\n",
       "<style scoped>\n",
       "    .dataframe tbody tr th:only-of-type {\n",
       "        vertical-align: middle;\n",
       "    }\n",
       "\n",
       "    .dataframe tbody tr th {\n",
       "        vertical-align: top;\n",
       "    }\n",
       "\n",
       "    .dataframe thead th {\n",
       "        text-align: right;\n",
       "    }\n",
       "</style>\n",
       "<table border=\"1\" class=\"dataframe\">\n",
       "  <thead>\n",
       "    <tr style=\"text-align: right;\">\n",
       "      <th></th>\n",
       "      <th>Data Venda</th>\n",
       "      <th>Data Envio</th>\n",
       "      <th>ID Loja</th>\n",
       "      <th>ID Produto</th>\n",
       "      <th>ID Cliente</th>\n",
       "      <th>No. Venda</th>\n",
       "      <th>Custo Unitário</th>\n",
       "      <th>Preço Unitário</th>\n",
       "      <th>Quantidade</th>\n",
       "      <th>Valor Desconto</th>\n",
       "      <th>Valor Venda</th>\n",
       "      <th>Produto</th>\n",
       "      <th>Fabricante</th>\n",
       "      <th>Marca</th>\n",
       "      <th>Classe</th>\n",
       "      <th>Cor</th>\n",
       "    </tr>\n",
       "  </thead>\n",
       "  <tbody>\n",
       "    <tr>\n",
       "      <th>0</th>\n",
       "      <td>2008-05-09</td>\n",
       "      <td>2008-05-29</td>\n",
       "      <td>199</td>\n",
       "      <td>384</td>\n",
       "      <td>18839</td>\n",
       "      <td>200805093CS607</td>\n",
       "      <td>348.58</td>\n",
       "      <td>758.0</td>\n",
       "      <td>6</td>\n",
       "      <td>0.0</td>\n",
       "      <td>4548.0</td>\n",
       "      <td>Adventure Works Laptop15.4W M1548 Red</td>\n",
       "      <td>Adventure Works</td>\n",
       "      <td>Adventure Works</td>\n",
       "      <td>Regular</td>\n",
       "      <td>Red</td>\n",
       "    </tr>\n",
       "    <tr>\n",
       "      <th>1</th>\n",
       "      <td>2008-05-12</td>\n",
       "      <td>2008-05-17</td>\n",
       "      <td>306</td>\n",
       "      <td>384</td>\n",
       "      <td>19051</td>\n",
       "      <td>200805123CS567</td>\n",
       "      <td>348.58</td>\n",
       "      <td>758.0</td>\n",
       "      <td>6</td>\n",
       "      <td>0.0</td>\n",
       "      <td>4548.0</td>\n",
       "      <td>Adventure Works Laptop15.4W M1548 Red</td>\n",
       "      <td>Adventure Works</td>\n",
       "      <td>Adventure Works</td>\n",
       "      <td>Regular</td>\n",
       "      <td>Red</td>\n",
       "    </tr>\n",
       "    <tr>\n",
       "      <th>2</th>\n",
       "      <td>2008-05-14</td>\n",
       "      <td>2008-05-20</td>\n",
       "      <td>306</td>\n",
       "      <td>384</td>\n",
       "      <td>19052</td>\n",
       "      <td>200805143CS576</td>\n",
       "      <td>348.58</td>\n",
       "      <td>758.0</td>\n",
       "      <td>6</td>\n",
       "      <td>0.0</td>\n",
       "      <td>4548.0</td>\n",
       "      <td>Adventure Works Laptop15.4W M1548 Red</td>\n",
       "      <td>Adventure Works</td>\n",
       "      <td>Adventure Works</td>\n",
       "      <td>Regular</td>\n",
       "      <td>Red</td>\n",
       "    </tr>\n",
       "    <tr>\n",
       "      <th>3</th>\n",
       "      <td>2008-05-21</td>\n",
       "      <td>2008-05-27</td>\n",
       "      <td>306</td>\n",
       "      <td>384</td>\n",
       "      <td>19052</td>\n",
       "      <td>200805213CS576</td>\n",
       "      <td>348.58</td>\n",
       "      <td>758.0</td>\n",
       "      <td>6</td>\n",
       "      <td>0.0</td>\n",
       "      <td>4548.0</td>\n",
       "      <td>Adventure Works Laptop15.4W M1548 Red</td>\n",
       "      <td>Adventure Works</td>\n",
       "      <td>Adventure Works</td>\n",
       "      <td>Regular</td>\n",
       "      <td>Red</td>\n",
       "    </tr>\n",
       "    <tr>\n",
       "      <th>4</th>\n",
       "      <td>2008-06-20</td>\n",
       "      <td>2008-06-27</td>\n",
       "      <td>306</td>\n",
       "      <td>384</td>\n",
       "      <td>19053</td>\n",
       "      <td>200806203CS586</td>\n",
       "      <td>348.58</td>\n",
       "      <td>758.0</td>\n",
       "      <td>6</td>\n",
       "      <td>0.0</td>\n",
       "      <td>4548.0</td>\n",
       "      <td>Adventure Works Laptop15.4W M1548 Red</td>\n",
       "      <td>Adventure Works</td>\n",
       "      <td>Adventure Works</td>\n",
       "      <td>Regular</td>\n",
       "      <td>Red</td>\n",
       "    </tr>\n",
       "  </tbody>\n",
       "</table>\n",
       "</div>"
      ],
      "text/plain": [
       "  Data Venda Data Envio  ID Loja  ID Produto  ID Cliente       No. Venda  \\\n",
       "0 2008-05-09 2008-05-29      199         384       18839  200805093CS607   \n",
       "1 2008-05-12 2008-05-17      306         384       19051  200805123CS567   \n",
       "2 2008-05-14 2008-05-20      306         384       19052  200805143CS576   \n",
       "3 2008-05-21 2008-05-27      306         384       19052  200805213CS576   \n",
       "4 2008-06-20 2008-06-27      306         384       19053  200806203CS586   \n",
       "\n",
       "   Custo Unitário  Preço Unitário  Quantidade  Valor Desconto  Valor Venda  \\\n",
       "0          348.58           758.0           6             0.0       4548.0   \n",
       "1          348.58           758.0           6             0.0       4548.0   \n",
       "2          348.58           758.0           6             0.0       4548.0   \n",
       "3          348.58           758.0           6             0.0       4548.0   \n",
       "4          348.58           758.0           6             0.0       4548.0   \n",
       "\n",
       "                                 Produto       Fabricante            Marca  \\\n",
       "0  Adventure Works Laptop15.4W M1548 Red  Adventure Works  Adventure Works   \n",
       "1  Adventure Works Laptop15.4W M1548 Red  Adventure Works  Adventure Works   \n",
       "2  Adventure Works Laptop15.4W M1548 Red  Adventure Works  Adventure Works   \n",
       "3  Adventure Works Laptop15.4W M1548 Red  Adventure Works  Adventure Works   \n",
       "4  Adventure Works Laptop15.4W M1548 Red  Adventure Works  Adventure Works   \n",
       "\n",
       "    Classe  Cor  \n",
       "0  Regular  Red  \n",
       "1  Regular  Red  \n",
       "2  Regular  Red  \n",
       "3  Regular  Red  \n",
       "4  Regular  Red  "
      ]
     },
     "execution_count": 3,
     "metadata": {},
     "output_type": "execute_result"
    }
   ],
   "source": [
    "df.head() # Base de dados importada"
   ]
  },
  {
   "cell_type": "code",
   "execution_count": 4,
   "id": "343b1083",
   "metadata": {},
   "outputs": [
    {
     "data": {
      "text/plain": [
       "Data Venda        datetime64[ns]\n",
       "Data Envio        datetime64[ns]\n",
       "ID Loja                    int64\n",
       "ID Produto                 int64\n",
       "ID Cliente                 int64\n",
       "No. Venda                 object\n",
       "Custo Unitário           float64\n",
       "Preço Unitário           float64\n",
       "Quantidade                 int64\n",
       "Valor Desconto           float64\n",
       "Valor Venda              float64\n",
       "Produto                   object\n",
       "Fabricante                object\n",
       "Marca                     object\n",
       "Classe                    object\n",
       "Cor                       object\n",
       "dtype: object"
      ]
     },
     "execution_count": 4,
     "metadata": {},
     "output_type": "execute_result"
    }
   ],
   "source": [
    "df.dtypes # Tipos de dados em cada uma das colunas"
   ]
  },
  {
   "cell_type": "code",
   "execution_count": 163,
   "id": "34ba2f7b",
   "metadata": {
    "scrolled": false
   },
   "outputs": [
    {
     "data": {
      "text/html": [
       "<div>\n",
       "<style scoped>\n",
       "    .dataframe tbody tr th:only-of-type {\n",
       "        vertical-align: middle;\n",
       "    }\n",
       "\n",
       "    .dataframe tbody tr th {\n",
       "        vertical-align: top;\n",
       "    }\n",
       "\n",
       "    .dataframe thead th {\n",
       "        text-align: right;\n",
       "    }\n",
       "</style>\n",
       "<table border=\"1\" class=\"dataframe\">\n",
       "  <thead>\n",
       "    <tr style=\"text-align: right;\">\n",
       "      <th></th>\n",
       "      <th>Data Venda</th>\n",
       "      <th>Data Envio</th>\n",
       "      <th>ID Loja</th>\n",
       "      <th>ID Produto</th>\n",
       "      <th>ID Cliente</th>\n",
       "      <th>No. Venda</th>\n",
       "      <th>Custo Unitário</th>\n",
       "      <th>Preço Unitário</th>\n",
       "      <th>Quantidade</th>\n",
       "      <th>Valor Desconto</th>\n",
       "      <th>...</th>\n",
       "      <th>Produto</th>\n",
       "      <th>Fabricante</th>\n",
       "      <th>Marca</th>\n",
       "      <th>Classe</th>\n",
       "      <th>Cor</th>\n",
       "      <th>Ano Venda</th>\n",
       "      <th>Mês Venda</th>\n",
       "      <th>Custo Total</th>\n",
       "      <th>Lucro</th>\n",
       "      <th>Tempo Envio</th>\n",
       "    </tr>\n",
       "  </thead>\n",
       "  <tbody>\n",
       "    <tr>\n",
       "      <th>0</th>\n",
       "      <td>2008-05-09</td>\n",
       "      <td>2008-05-29</td>\n",
       "      <td>199</td>\n",
       "      <td>384</td>\n",
       "      <td>18839</td>\n",
       "      <td>200805093CS607</td>\n",
       "      <td>348.58</td>\n",
       "      <td>758.00</td>\n",
       "      <td>6</td>\n",
       "      <td>0.00</td>\n",
       "      <td>...</td>\n",
       "      <td>Adventure Works Laptop15.4W M1548 Red</td>\n",
       "      <td>Adventure Works</td>\n",
       "      <td>Adventure Works</td>\n",
       "      <td>Regular</td>\n",
       "      <td>Red</td>\n",
       "      <td>2008</td>\n",
       "      <td>5</td>\n",
       "      <td>2,091.48</td>\n",
       "      <td>2,456.52</td>\n",
       "      <td>20</td>\n",
       "    </tr>\n",
       "    <tr>\n",
       "      <th>1</th>\n",
       "      <td>2008-05-12</td>\n",
       "      <td>2008-05-17</td>\n",
       "      <td>306</td>\n",
       "      <td>384</td>\n",
       "      <td>19051</td>\n",
       "      <td>200805123CS567</td>\n",
       "      <td>348.58</td>\n",
       "      <td>758.00</td>\n",
       "      <td>6</td>\n",
       "      <td>0.00</td>\n",
       "      <td>...</td>\n",
       "      <td>Adventure Works Laptop15.4W M1548 Red</td>\n",
       "      <td>Adventure Works</td>\n",
       "      <td>Adventure Works</td>\n",
       "      <td>Regular</td>\n",
       "      <td>Red</td>\n",
       "      <td>2008</td>\n",
       "      <td>5</td>\n",
       "      <td>2,091.48</td>\n",
       "      <td>2,456.52</td>\n",
       "      <td>5</td>\n",
       "    </tr>\n",
       "    <tr>\n",
       "      <th>2</th>\n",
       "      <td>2008-05-14</td>\n",
       "      <td>2008-05-20</td>\n",
       "      <td>306</td>\n",
       "      <td>384</td>\n",
       "      <td>19052</td>\n",
       "      <td>200805143CS576</td>\n",
       "      <td>348.58</td>\n",
       "      <td>758.00</td>\n",
       "      <td>6</td>\n",
       "      <td>0.00</td>\n",
       "      <td>...</td>\n",
       "      <td>Adventure Works Laptop15.4W M1548 Red</td>\n",
       "      <td>Adventure Works</td>\n",
       "      <td>Adventure Works</td>\n",
       "      <td>Regular</td>\n",
       "      <td>Red</td>\n",
       "      <td>2008</td>\n",
       "      <td>5</td>\n",
       "      <td>2,091.48</td>\n",
       "      <td>2,456.52</td>\n",
       "      <td>6</td>\n",
       "    </tr>\n",
       "    <tr>\n",
       "      <th>3</th>\n",
       "      <td>2008-05-21</td>\n",
       "      <td>2008-05-27</td>\n",
       "      <td>306</td>\n",
       "      <td>384</td>\n",
       "      <td>19052</td>\n",
       "      <td>200805213CS576</td>\n",
       "      <td>348.58</td>\n",
       "      <td>758.00</td>\n",
       "      <td>6</td>\n",
       "      <td>0.00</td>\n",
       "      <td>...</td>\n",
       "      <td>Adventure Works Laptop15.4W M1548 Red</td>\n",
       "      <td>Adventure Works</td>\n",
       "      <td>Adventure Works</td>\n",
       "      <td>Regular</td>\n",
       "      <td>Red</td>\n",
       "      <td>2008</td>\n",
       "      <td>5</td>\n",
       "      <td>2,091.48</td>\n",
       "      <td>2,456.52</td>\n",
       "      <td>6</td>\n",
       "    </tr>\n",
       "    <tr>\n",
       "      <th>4</th>\n",
       "      <td>2008-06-20</td>\n",
       "      <td>2008-06-27</td>\n",
       "      <td>306</td>\n",
       "      <td>384</td>\n",
       "      <td>19053</td>\n",
       "      <td>200806203CS586</td>\n",
       "      <td>348.58</td>\n",
       "      <td>758.00</td>\n",
       "      <td>6</td>\n",
       "      <td>0.00</td>\n",
       "      <td>...</td>\n",
       "      <td>Adventure Works Laptop15.4W M1548 Red</td>\n",
       "      <td>Adventure Works</td>\n",
       "      <td>Adventure Works</td>\n",
       "      <td>Regular</td>\n",
       "      <td>Red</td>\n",
       "      <td>2008</td>\n",
       "      <td>6</td>\n",
       "      <td>2,091.48</td>\n",
       "      <td>2,456.52</td>\n",
       "      <td>7</td>\n",
       "    </tr>\n",
       "  </tbody>\n",
       "</table>\n",
       "<p>5 rows × 21 columns</p>\n",
       "</div>"
      ],
      "text/plain": [
       "  Data Venda Data Envio ID Loja ID Produto ID Cliente       No. Venda  \\\n",
       "0 2008-05-09 2008-05-29     199        384      18839  200805093CS607   \n",
       "1 2008-05-12 2008-05-17     306        384      19051  200805123CS567   \n",
       "2 2008-05-14 2008-05-20     306        384      19052  200805143CS576   \n",
       "3 2008-05-21 2008-05-27     306        384      19052  200805213CS576   \n",
       "4 2008-06-20 2008-06-27     306        384      19053  200806203CS586   \n",
       "\n",
       "        Custo Unitário       Preço Unitário  Quantidade       Valor Desconto  \\\n",
       "0               348.58               758.00           6                 0.00   \n",
       "1               348.58               758.00           6                 0.00   \n",
       "2               348.58               758.00           6                 0.00   \n",
       "3               348.58               758.00           6                 0.00   \n",
       "4               348.58               758.00           6                 0.00   \n",
       "\n",
       "   ...                                Produto       Fabricante  \\\n",
       "0  ...  Adventure Works Laptop15.4W M1548 Red  Adventure Works   \n",
       "1  ...  Adventure Works Laptop15.4W M1548 Red  Adventure Works   \n",
       "2  ...  Adventure Works Laptop15.4W M1548 Red  Adventure Works   \n",
       "3  ...  Adventure Works Laptop15.4W M1548 Red  Adventure Works   \n",
       "4  ...  Adventure Works Laptop15.4W M1548 Red  Adventure Works   \n",
       "\n",
       "             Marca   Classe  Cor Ano Venda Mês Venda          Custo Total  \\\n",
       "0  Adventure Works  Regular  Red      2008         5             2,091.48   \n",
       "1  Adventure Works  Regular  Red      2008         5             2,091.48   \n",
       "2  Adventure Works  Regular  Red      2008         5             2,091.48   \n",
       "3  Adventure Works  Regular  Red      2008         5             2,091.48   \n",
       "4  Adventure Works  Regular  Red      2008         6             2,091.48   \n",
       "\n",
       "                 Lucro  Tempo Envio  \n",
       "0             2,456.52           20  \n",
       "1             2,456.52            5  \n",
       "2             2,456.52            6  \n",
       "3             2,456.52            6  \n",
       "4             2,456.52            7  \n",
       "\n",
       "[5 rows x 21 columns]"
      ]
     },
     "execution_count": 163,
     "metadata": {},
     "output_type": "execute_result"
    }
   ],
   "source": [
    "df[\"ID Loja\"] = df[\"ID Loja\"].astype(\"object\") # Transformação da tipagem da coluna para object\n",
    "df[\"Ano Venda\"] = df[\"Data Venda\"].dt.year # Criação da coluna Ano Venda\n",
    "df[\"Mês Venda\"] = df[\"Data Venda\"].dt.month # Criação da coluna Mês Venda\n",
    "df[\"Mês Venda\"] = df[\"Mês Venda\"].astype(\"object\") #Transformei a coluna Mês Venda em object para não somar quando usar a função describe\n",
    "df[\"Ano Venda\"] = df[\"Ano Venda\"].astype(\"object\") #Transformei a coluna Ano Venda em object para não somar quando usar a função describe\n",
    "df[\"ID Produto\"] = df[\"ID Produto\"].astype(\"object\") # Transformação da tipagem da coluna para object\n",
    "df[\"ID Cliente\"] = df[\"ID Cliente\"].astype(\"object\") # Transformação da tipagem da coluna para object\n",
    "df[\"Custo Total\"] = df[\"Custo Unitário\"].mul(df[\"Quantidade\"]) # Criação da coluna de Custo Total\n",
    "df[\"Lucro\"] = df[\"Valor Venda\"] - df[\"Custo Total\"] # Criação da coluna de de Lucro\n",
    "df[\"Tempo Envio\"] = (df[\"Data Envio\"] - df[\"Data Venda\"]).dt.days # Criação da coluna de tempo de envio em dias\n",
    "df.head()"
   ]
  },
  {
   "cell_type": "code",
   "execution_count": 164,
   "id": "8dc305ae",
   "metadata": {},
   "outputs": [
    {
     "data": {
      "text/plain": [
       "Data Venda        datetime64[ns]\n",
       "Data Envio        datetime64[ns]\n",
       "ID Loja                   object\n",
       "ID Produto                object\n",
       "ID Cliente                object\n",
       "No. Venda                 object\n",
       "Custo Unitário           float64\n",
       "Preço Unitário           float64\n",
       "Quantidade                 int64\n",
       "Valor Desconto           float64\n",
       "Valor Venda              float64\n",
       "Produto                   object\n",
       "Fabricante                object\n",
       "Marca                     object\n",
       "Classe                    object\n",
       "Cor                       object\n",
       "Ano Venda                 object\n",
       "Mês Venda                 object\n",
       "Custo Total              float64\n",
       "Lucro                    float64\n",
       "Tempo Envio                int64\n",
       "dtype: object"
      ]
     },
     "execution_count": 164,
     "metadata": {},
     "output_type": "execute_result"
    }
   ],
   "source": [
    "df.dtypes"
   ]
  },
  {
   "cell_type": "code",
   "execution_count": 165,
   "id": "f6cb780f",
   "metadata": {
    "scrolled": false
   },
   "outputs": [
    {
     "data": {
      "text/html": [
       "<div>\n",
       "<style scoped>\n",
       "    .dataframe tbody tr th:only-of-type {\n",
       "        vertical-align: middle;\n",
       "    }\n",
       "\n",
       "    .dataframe tbody tr th {\n",
       "        vertical-align: top;\n",
       "    }\n",
       "\n",
       "    .dataframe thead th {\n",
       "        text-align: right;\n",
       "    }\n",
       "</style>\n",
       "<table border=\"1\" class=\"dataframe\">\n",
       "  <thead>\n",
       "    <tr style=\"text-align: right;\">\n",
       "      <th></th>\n",
       "      <th>Custo Unitário</th>\n",
       "      <th>Preço Unitário</th>\n",
       "      <th>Quantidade</th>\n",
       "      <th>Valor Desconto</th>\n",
       "      <th>Valor Venda</th>\n",
       "      <th>Custo Total</th>\n",
       "      <th>Lucro</th>\n",
       "      <th>Tempo Envio</th>\n",
       "    </tr>\n",
       "  </thead>\n",
       "  <tbody>\n",
       "    <tr>\n",
       "      <th>count</th>\n",
       "      <td>904.00</td>\n",
       "      <td>904.00</td>\n",
       "      <td>904.00</td>\n",
       "      <td>904.00</td>\n",
       "      <td>904.00</td>\n",
       "      <td>904.00</td>\n",
       "      <td>904.00</td>\n",
       "      <td>904.00</td>\n",
       "    </tr>\n",
       "    <tr>\n",
       "      <th>mean</th>\n",
       "      <td>272.01</td>\n",
       "      <td>742.53</td>\n",
       "      <td>62.95</td>\n",
       "      <td>689.12</td>\n",
       "      <td>6,620.14</td>\n",
       "      <td>2,750.87</td>\n",
       "      <td>3,869.27</td>\n",
       "      <td>8.54</td>\n",
       "    </tr>\n",
       "    <tr>\n",
       "      <th>std</th>\n",
       "      <td>129.77</td>\n",
       "      <td>368.59</td>\n",
       "      <td>148.95</td>\n",
       "      <td>822.36</td>\n",
       "      <td>4,319.41</td>\n",
       "      <td>1,646.07</td>\n",
       "      <td>2,823.81</td>\n",
       "      <td>3.06</td>\n",
       "    </tr>\n",
       "    <tr>\n",
       "      <th>min</th>\n",
       "      <td>5.09</td>\n",
       "      <td>9.99</td>\n",
       "      <td>2.00</td>\n",
       "      <td>0.00</td>\n",
       "      <td>159.84</td>\n",
       "      <td>81.44</td>\n",
       "      <td>78.40</td>\n",
       "      <td>4.00</td>\n",
       "    </tr>\n",
       "    <tr>\n",
       "      <th>25%</th>\n",
       "      <td>324.69</td>\n",
       "      <td>758.00</td>\n",
       "      <td>6.00</td>\n",
       "      <td>0.00</td>\n",
       "      <td>3,920.00</td>\n",
       "      <td>1,742.90</td>\n",
       "      <td>2,001.72</td>\n",
       "      <td>6.00</td>\n",
       "    </tr>\n",
       "    <tr>\n",
       "      <th>50%</th>\n",
       "      <td>330.66</td>\n",
       "      <td>980.00</td>\n",
       "      <td>9.00</td>\n",
       "      <td>461.17</td>\n",
       "      <td>5,798.70</td>\n",
       "      <td>2,091.48</td>\n",
       "      <td>3,405.24</td>\n",
       "      <td>9.00</td>\n",
       "    </tr>\n",
       "    <tr>\n",
       "      <th>75%</th>\n",
       "      <td>348.58</td>\n",
       "      <td>998.00</td>\n",
       "      <td>17.00</td>\n",
       "      <td>1,005.08</td>\n",
       "      <td>7,986.00</td>\n",
       "      <td>3,571.59</td>\n",
       "      <td>4,670.68</td>\n",
       "      <td>11.00</td>\n",
       "    </tr>\n",
       "    <tr>\n",
       "      <th>max</th>\n",
       "      <td>348.58</td>\n",
       "      <td>999.00</td>\n",
       "      <td>1,560.00</td>\n",
       "      <td>6,272.00</td>\n",
       "      <td>29,400.00</td>\n",
       "      <td>11,154.56</td>\n",
       "      <td>19,659.30</td>\n",
       "      <td>20.00</td>\n",
       "    </tr>\n",
       "  </tbody>\n",
       "</table>\n",
       "</div>"
      ],
      "text/plain": [
       "            Custo Unitário       Preço Unitário           Quantidade  \\\n",
       "count               904.00               904.00               904.00   \n",
       "mean                272.01               742.53                62.95   \n",
       "std                 129.77               368.59               148.95   \n",
       "min                   5.09                 9.99                 2.00   \n",
       "25%                 324.69               758.00                 6.00   \n",
       "50%                 330.66               980.00                 9.00   \n",
       "75%                 348.58               998.00                17.00   \n",
       "max                 348.58               999.00             1,560.00   \n",
       "\n",
       "            Valor Desconto          Valor Venda          Custo Total  \\\n",
       "count               904.00               904.00               904.00   \n",
       "mean                689.12             6,620.14             2,750.87   \n",
       "std                 822.36             4,319.41             1,646.07   \n",
       "min                   0.00               159.84                81.44   \n",
       "25%                   0.00             3,920.00             1,742.90   \n",
       "50%                 461.17             5,798.70             2,091.48   \n",
       "75%               1,005.08             7,986.00             3,571.59   \n",
       "max               6,272.00            29,400.00            11,154.56   \n",
       "\n",
       "                     Lucro          Tempo Envio  \n",
       "count               904.00               904.00  \n",
       "mean              3,869.27                 8.54  \n",
       "std               2,823.81                 3.06  \n",
       "min                  78.40                 4.00  \n",
       "25%               2,001.72                 6.00  \n",
       "50%               3,405.24                 9.00  \n",
       "75%               4,670.68                11.00  \n",
       "max              19,659.30                20.00  "
      ]
     },
     "execution_count": 165,
     "metadata": {},
     "output_type": "execute_result"
    }
   ],
   "source": [
    "df.describe() # Estatisticas gerais sobre os dados"
   ]
  },
  {
   "cell_type": "code",
   "execution_count": 166,
   "id": "2f0f3f73",
   "metadata": {},
   "outputs": [],
   "source": [
    "pd.options.display.float_format = '{:20,.2f}'.format"
   ]
  },
  {
   "cell_type": "markdown",
   "id": "0bd87d8c",
   "metadata": {},
   "source": [
    "## 1.2. Tratamento da base de dados Fabricante"
   ]
  },
  {
   "cell_type": "code",
   "execution_count": 167,
   "id": "fcd8d3b5",
   "metadata": {},
   "outputs": [
    {
     "data": {
      "text/plain": [
       "array(['Adventure Works', 'Fabrikam, Inc.', 'Contoso, Ltd'], dtype=object)"
      ]
     },
     "execution_count": 167,
     "metadata": {},
     "output_type": "execute_result"
    }
   ],
   "source": [
    "df[\"Fabricante\"].unique()"
   ]
  },
  {
   "cell_type": "code",
   "execution_count": 322,
   "id": "31d6c6bb",
   "metadata": {},
   "outputs": [],
   "source": [
    "df_fabricantes = df.groupby([df[\"Data Venda\"].dt.year,\"Fabricante\",\"Produto\", \"Mês Venda\"])[\"Valor Venda\", \"Custo Total\", \"Lucro\", \"Valor Desconto\", \"Quantidade\"].sum().reset_index()"
   ]
  },
  {
   "cell_type": "code",
   "execution_count": 324,
   "id": "971faa28",
   "metadata": {
    "scrolled": false
   },
   "outputs": [
    {
     "data": {
      "text/html": [
       "<div>\n",
       "<style scoped>\n",
       "    .dataframe tbody tr th:only-of-type {\n",
       "        vertical-align: middle;\n",
       "    }\n",
       "\n",
       "    .dataframe tbody tr th {\n",
       "        vertical-align: top;\n",
       "    }\n",
       "\n",
       "    .dataframe thead th {\n",
       "        text-align: right;\n",
       "    }\n",
       "</style>\n",
       "<table border=\"1\" class=\"dataframe\">\n",
       "  <thead>\n",
       "    <tr style=\"text-align: right;\">\n",
       "      <th></th>\n",
       "      <th>Data Venda</th>\n",
       "      <th>Fabricante</th>\n",
       "      <th>Produto</th>\n",
       "      <th>Mês Venda</th>\n",
       "      <th>Valor Venda</th>\n",
       "      <th>Custo Total</th>\n",
       "      <th>Lucro</th>\n",
       "      <th>Valor Desconto</th>\n",
       "      <th>Quantidade</th>\n",
       "    </tr>\n",
       "  </thead>\n",
       "  <tbody>\n",
       "    <tr>\n",
       "      <th>0</th>\n",
       "      <td>2008</td>\n",
       "      <td>Adventure Works</td>\n",
       "      <td>Adventure Works Laptop15.4W M1548 Black</td>\n",
       "      <td>1</td>\n",
       "      <td>6,064.00</td>\n",
       "      <td>3,485.80</td>\n",
       "      <td>2,578.20</td>\n",
       "      <td>1,516.00</td>\n",
       "      <td>10</td>\n",
       "    </tr>\n",
       "    <tr>\n",
       "      <th>1</th>\n",
       "      <td>2008</td>\n",
       "      <td>Adventure Works</td>\n",
       "      <td>Adventure Works Laptop15.4W M1548 Black</td>\n",
       "      <td>2</td>\n",
       "      <td>37,164.74</td>\n",
       "      <td>19,520.48</td>\n",
       "      <td>17,644.26</td>\n",
       "      <td>5,283.26</td>\n",
       "      <td>56</td>\n",
       "    </tr>\n",
       "    <tr>\n",
       "      <th>2</th>\n",
       "      <td>2008</td>\n",
       "      <td>Adventure Works</td>\n",
       "      <td>Adventure Works Laptop15.4W M1548 Black</td>\n",
       "      <td>3</td>\n",
       "      <td>17,161.12</td>\n",
       "      <td>8,365.92</td>\n",
       "      <td>8,795.20</td>\n",
       "      <td>1,030.88</td>\n",
       "      <td>24</td>\n",
       "    </tr>\n",
       "    <tr>\n",
       "      <th>3</th>\n",
       "      <td>2008</td>\n",
       "      <td>Adventure Works</td>\n",
       "      <td>Adventure Works Laptop15.4W M1548 Black</td>\n",
       "      <td>4</td>\n",
       "      <td>9,164.22</td>\n",
       "      <td>4,531.54</td>\n",
       "      <td>4,632.68</td>\n",
       "      <td>689.78</td>\n",
       "      <td>13</td>\n",
       "    </tr>\n",
       "    <tr>\n",
       "      <th>4</th>\n",
       "      <td>2008</td>\n",
       "      <td>Adventure Works</td>\n",
       "      <td>Adventure Works Laptop15.4W M1548 Black</td>\n",
       "      <td>5</td>\n",
       "      <td>10,005.60</td>\n",
       "      <td>4,880.12</td>\n",
       "      <td>5,125.48</td>\n",
       "      <td>606.40</td>\n",
       "      <td>14</td>\n",
       "    </tr>\n",
       "    <tr>\n",
       "      <th>5</th>\n",
       "      <td>2008</td>\n",
       "      <td>Adventure Works</td>\n",
       "      <td>Adventure Works Laptop15.4W M1548 Black</td>\n",
       "      <td>6</td>\n",
       "      <td>24,559.20</td>\n",
       "      <td>11,851.72</td>\n",
       "      <td>12,707.48</td>\n",
       "      <td>1,212.80</td>\n",
       "      <td>34</td>\n",
       "    </tr>\n",
       "    <tr>\n",
       "      <th>6</th>\n",
       "      <td>2008</td>\n",
       "      <td>Adventure Works</td>\n",
       "      <td>Adventure Works Laptop15.4W M1548 Black</td>\n",
       "      <td>7</td>\n",
       "      <td>37,445.20</td>\n",
       "      <td>17,429.00</td>\n",
       "      <td>20,016.20</td>\n",
       "      <td>454.80</td>\n",
       "      <td>50</td>\n",
       "    </tr>\n",
       "    <tr>\n",
       "      <th>7</th>\n",
       "      <td>2008</td>\n",
       "      <td>Adventure Works</td>\n",
       "      <td>Adventure Works Laptop15.4W M1548 Black</td>\n",
       "      <td>8</td>\n",
       "      <td>8,868.60</td>\n",
       "      <td>4,531.54</td>\n",
       "      <td>4,337.06</td>\n",
       "      <td>985.40</td>\n",
       "      <td>13</td>\n",
       "    </tr>\n",
       "    <tr>\n",
       "      <th>8</th>\n",
       "      <td>2008</td>\n",
       "      <td>Adventure Works</td>\n",
       "      <td>Adventure Works Laptop15.4W M1548 Black</td>\n",
       "      <td>9</td>\n",
       "      <td>17,055.00</td>\n",
       "      <td>8,714.50</td>\n",
       "      <td>8,340.50</td>\n",
       "      <td>1,895.00</td>\n",
       "      <td>25</td>\n",
       "    </tr>\n",
       "    <tr>\n",
       "      <th>9</th>\n",
       "      <td>2008</td>\n",
       "      <td>Adventure Works</td>\n",
       "      <td>Adventure Works Laptop15.4W M1548 Black</td>\n",
       "      <td>10</td>\n",
       "      <td>51,544.00</td>\n",
       "      <td>25,446.34</td>\n",
       "      <td>26,097.66</td>\n",
       "      <td>3,790.00</td>\n",
       "      <td>73</td>\n",
       "    </tr>\n",
       "    <tr>\n",
       "      <th>10</th>\n",
       "      <td>2008</td>\n",
       "      <td>Adventure Works</td>\n",
       "      <td>Adventure Works Laptop15.4W M1548 Black</td>\n",
       "      <td>11</td>\n",
       "      <td>22,967.40</td>\n",
       "      <td>12,548.88</td>\n",
       "      <td>10,418.52</td>\n",
       "      <td>4,320.60</td>\n",
       "      <td>36</td>\n",
       "    </tr>\n",
       "    <tr>\n",
       "      <th>11</th>\n",
       "      <td>2008</td>\n",
       "      <td>Adventure Works</td>\n",
       "      <td>Adventure Works Laptop15.4W M1548 Black</td>\n",
       "      <td>12</td>\n",
       "      <td>68,371.60</td>\n",
       "      <td>37,646.64</td>\n",
       "      <td>30,724.96</td>\n",
       "      <td>13,492.40</td>\n",
       "      <td>108</td>\n",
       "    </tr>\n",
       "    <tr>\n",
       "      <th>12</th>\n",
       "      <td>2008</td>\n",
       "      <td>Adventure Works</td>\n",
       "      <td>Adventure Works Laptop15.4W M1548 Red</td>\n",
       "      <td>1</td>\n",
       "      <td>14,402.00</td>\n",
       "      <td>6,971.60</td>\n",
       "      <td>7,430.40</td>\n",
       "      <td>758.00</td>\n",
       "      <td>20</td>\n",
       "    </tr>\n",
       "    <tr>\n",
       "      <th>13</th>\n",
       "      <td>2008</td>\n",
       "      <td>Adventure Works</td>\n",
       "      <td>Adventure Works Laptop15.4W M1548 Red</td>\n",
       "      <td>2</td>\n",
       "      <td>37,998.54</td>\n",
       "      <td>20,217.64</td>\n",
       "      <td>17,780.90</td>\n",
       "      <td>5,965.46</td>\n",
       "      <td>58</td>\n",
       "    </tr>\n",
       "    <tr>\n",
       "      <th>14</th>\n",
       "      <td>2008</td>\n",
       "      <td>Adventure Works</td>\n",
       "      <td>Adventure Works Laptop15.4W M1548 Red</td>\n",
       "      <td>3</td>\n",
       "      <td>17,759.94</td>\n",
       "      <td>8,714.50</td>\n",
       "      <td>9,045.44</td>\n",
       "      <td>1,190.06</td>\n",
       "      <td>25</td>\n",
       "    </tr>\n",
       "    <tr>\n",
       "      <th>15</th>\n",
       "      <td>2008</td>\n",
       "      <td>Adventure Works</td>\n",
       "      <td>Adventure Works Laptop15.4W M1548 Red</td>\n",
       "      <td>4</td>\n",
       "      <td>14,311.04</td>\n",
       "      <td>7,320.18</td>\n",
       "      <td>6,990.86</td>\n",
       "      <td>1,606.96</td>\n",
       "      <td>21</td>\n",
       "    </tr>\n",
       "    <tr>\n",
       "      <th>16</th>\n",
       "      <td>2008</td>\n",
       "      <td>Adventure Works</td>\n",
       "      <td>Adventure Works Laptop15.4W M1548 Red</td>\n",
       "      <td>5</td>\n",
       "      <td>23,649.60</td>\n",
       "      <td>11,154.56</td>\n",
       "      <td>12,495.04</td>\n",
       "      <td>606.40</td>\n",
       "      <td>32</td>\n",
       "    </tr>\n",
       "    <tr>\n",
       "      <th>17</th>\n",
       "      <td>2008</td>\n",
       "      <td>Adventure Works</td>\n",
       "      <td>Adventure Works Laptop15.4W M1548 Red</td>\n",
       "      <td>6</td>\n",
       "      <td>60,488.40</td>\n",
       "      <td>28,583.56</td>\n",
       "      <td>31,904.84</td>\n",
       "      <td>1,667.60</td>\n",
       "      <td>82</td>\n",
       "    </tr>\n",
       "    <tr>\n",
       "      <th>18</th>\n",
       "      <td>2008</td>\n",
       "      <td>Adventure Works</td>\n",
       "      <td>Adventure Works Laptop15.4W M1548 Red</td>\n",
       "      <td>7</td>\n",
       "      <td>30,016.80</td>\n",
       "      <td>14,640.36</td>\n",
       "      <td>15,376.44</td>\n",
       "      <td>1,819.20</td>\n",
       "      <td>42</td>\n",
       "    </tr>\n",
       "    <tr>\n",
       "      <th>19</th>\n",
       "      <td>2008</td>\n",
       "      <td>Adventure Works</td>\n",
       "      <td>Adventure Works Laptop15.4W M1548 Red</td>\n",
       "      <td>8</td>\n",
       "      <td>15,463.20</td>\n",
       "      <td>7,668.76</td>\n",
       "      <td>7,794.44</td>\n",
       "      <td>1,212.80</td>\n",
       "      <td>22</td>\n",
       "    </tr>\n",
       "    <tr>\n",
       "      <th>20</th>\n",
       "      <td>2008</td>\n",
       "      <td>Adventure Works</td>\n",
       "      <td>Adventure Works Laptop15.4W M1548 Red</td>\n",
       "      <td>9</td>\n",
       "      <td>20,238.60</td>\n",
       "      <td>10,108.82</td>\n",
       "      <td>10,129.78</td>\n",
       "      <td>1,743.40</td>\n",
       "      <td>29</td>\n",
       "    </tr>\n",
       "    <tr>\n",
       "      <th>21</th>\n",
       "      <td>2008</td>\n",
       "      <td>Adventure Works</td>\n",
       "      <td>Adventure Works Laptop15.4W M1548 Red</td>\n",
       "      <td>10</td>\n",
       "      <td>13,644.00</td>\n",
       "      <td>6,274.44</td>\n",
       "      <td>7,369.56</td>\n",
       "      <td>0.00</td>\n",
       "      <td>18</td>\n",
       "    </tr>\n",
       "    <tr>\n",
       "      <th>22</th>\n",
       "      <td>2008</td>\n",
       "      <td>Adventure Works</td>\n",
       "      <td>Adventure Works Laptop15.4W M1548 Red</td>\n",
       "      <td>11</td>\n",
       "      <td>44,873.60</td>\n",
       "      <td>24,749.18</td>\n",
       "      <td>20,124.42</td>\n",
       "      <td>8,944.40</td>\n",
       "      <td>71</td>\n",
       "    </tr>\n",
       "    <tr>\n",
       "      <th>23</th>\n",
       "      <td>2008</td>\n",
       "      <td>Adventure Works</td>\n",
       "      <td>Adventure Works Laptop15.4W M1548 Red</td>\n",
       "      <td>12</td>\n",
       "      <td>19,935.40</td>\n",
       "      <td>11,154.56</td>\n",
       "      <td>8,780.84</td>\n",
       "      <td>4,320.60</td>\n",
       "      <td>32</td>\n",
       "    </tr>\n",
       "    <tr>\n",
       "      <th>24</th>\n",
       "      <td>2008</td>\n",
       "      <td>Contoso, Ltd</td>\n",
       "      <td>Headphone Adapter for Contoso Phone E130 Silver</td>\n",
       "      <td>5</td>\n",
       "      <td>3,692.30</td>\n",
       "      <td>1,954.56</td>\n",
       "      <td>1,737.74</td>\n",
       "      <td>143.86</td>\n",
       "      <td>384</td>\n",
       "    </tr>\n",
       "  </tbody>\n",
       "</table>\n",
       "</div>"
      ],
      "text/plain": [
       "    Data Venda       Fabricante  \\\n",
       "0         2008  Adventure Works   \n",
       "1         2008  Adventure Works   \n",
       "2         2008  Adventure Works   \n",
       "3         2008  Adventure Works   \n",
       "4         2008  Adventure Works   \n",
       "5         2008  Adventure Works   \n",
       "6         2008  Adventure Works   \n",
       "7         2008  Adventure Works   \n",
       "8         2008  Adventure Works   \n",
       "9         2008  Adventure Works   \n",
       "10        2008  Adventure Works   \n",
       "11        2008  Adventure Works   \n",
       "12        2008  Adventure Works   \n",
       "13        2008  Adventure Works   \n",
       "14        2008  Adventure Works   \n",
       "15        2008  Adventure Works   \n",
       "16        2008  Adventure Works   \n",
       "17        2008  Adventure Works   \n",
       "18        2008  Adventure Works   \n",
       "19        2008  Adventure Works   \n",
       "20        2008  Adventure Works   \n",
       "21        2008  Adventure Works   \n",
       "22        2008  Adventure Works   \n",
       "23        2008  Adventure Works   \n",
       "24        2008     Contoso, Ltd   \n",
       "\n",
       "                                            Produto  Mês Venda  \\\n",
       "0           Adventure Works Laptop15.4W M1548 Black          1   \n",
       "1           Adventure Works Laptop15.4W M1548 Black          2   \n",
       "2           Adventure Works Laptop15.4W M1548 Black          3   \n",
       "3           Adventure Works Laptop15.4W M1548 Black          4   \n",
       "4           Adventure Works Laptop15.4W M1548 Black          5   \n",
       "5           Adventure Works Laptop15.4W M1548 Black          6   \n",
       "6           Adventure Works Laptop15.4W M1548 Black          7   \n",
       "7           Adventure Works Laptop15.4W M1548 Black          8   \n",
       "8           Adventure Works Laptop15.4W M1548 Black          9   \n",
       "9           Adventure Works Laptop15.4W M1548 Black         10   \n",
       "10          Adventure Works Laptop15.4W M1548 Black         11   \n",
       "11          Adventure Works Laptop15.4W M1548 Black         12   \n",
       "12            Adventure Works Laptop15.4W M1548 Red          1   \n",
       "13            Adventure Works Laptop15.4W M1548 Red          2   \n",
       "14            Adventure Works Laptop15.4W M1548 Red          3   \n",
       "15            Adventure Works Laptop15.4W M1548 Red          4   \n",
       "16            Adventure Works Laptop15.4W M1548 Red          5   \n",
       "17            Adventure Works Laptop15.4W M1548 Red          6   \n",
       "18            Adventure Works Laptop15.4W M1548 Red          7   \n",
       "19            Adventure Works Laptop15.4W M1548 Red          8   \n",
       "20            Adventure Works Laptop15.4W M1548 Red          9   \n",
       "21            Adventure Works Laptop15.4W M1548 Red         10   \n",
       "22            Adventure Works Laptop15.4W M1548 Red         11   \n",
       "23            Adventure Works Laptop15.4W M1548 Red         12   \n",
       "24  Headphone Adapter for Contoso Phone E130 Silver          5   \n",
       "\n",
       "            Valor Venda          Custo Total                Lucro  \\\n",
       "0              6,064.00             3,485.80             2,578.20   \n",
       "1             37,164.74            19,520.48            17,644.26   \n",
       "2             17,161.12             8,365.92             8,795.20   \n",
       "3              9,164.22             4,531.54             4,632.68   \n",
       "4             10,005.60             4,880.12             5,125.48   \n",
       "5             24,559.20            11,851.72            12,707.48   \n",
       "6             37,445.20            17,429.00            20,016.20   \n",
       "7              8,868.60             4,531.54             4,337.06   \n",
       "8             17,055.00             8,714.50             8,340.50   \n",
       "9             51,544.00            25,446.34            26,097.66   \n",
       "10            22,967.40            12,548.88            10,418.52   \n",
       "11            68,371.60            37,646.64            30,724.96   \n",
       "12            14,402.00             6,971.60             7,430.40   \n",
       "13            37,998.54            20,217.64            17,780.90   \n",
       "14            17,759.94             8,714.50             9,045.44   \n",
       "15            14,311.04             7,320.18             6,990.86   \n",
       "16            23,649.60            11,154.56            12,495.04   \n",
       "17            60,488.40            28,583.56            31,904.84   \n",
       "18            30,016.80            14,640.36            15,376.44   \n",
       "19            15,463.20             7,668.76             7,794.44   \n",
       "20            20,238.60            10,108.82            10,129.78   \n",
       "21            13,644.00             6,274.44             7,369.56   \n",
       "22            44,873.60            24,749.18            20,124.42   \n",
       "23            19,935.40            11,154.56             8,780.84   \n",
       "24             3,692.30             1,954.56             1,737.74   \n",
       "\n",
       "         Valor Desconto  Quantidade  \n",
       "0              1,516.00          10  \n",
       "1              5,283.26          56  \n",
       "2              1,030.88          24  \n",
       "3                689.78          13  \n",
       "4                606.40          14  \n",
       "5              1,212.80          34  \n",
       "6                454.80          50  \n",
       "7                985.40          13  \n",
       "8              1,895.00          25  \n",
       "9              3,790.00          73  \n",
       "10             4,320.60          36  \n",
       "11            13,492.40         108  \n",
       "12               758.00          20  \n",
       "13             5,965.46          58  \n",
       "14             1,190.06          25  \n",
       "15             1,606.96          21  \n",
       "16               606.40          32  \n",
       "17             1,667.60          82  \n",
       "18             1,819.20          42  \n",
       "19             1,212.80          22  \n",
       "20             1,743.40          29  \n",
       "21                 0.00          18  \n",
       "22             8,944.40          71  \n",
       "23             4,320.60          32  \n",
       "24               143.86         384  "
      ]
     },
     "execution_count": 324,
     "metadata": {},
     "output_type": "execute_result"
    }
   ],
   "source": [
    "df_fabricantes.head(25)"
   ]
  },
  {
   "cell_type": "code",
   "execution_count": 325,
   "id": "e20bf349",
   "metadata": {
    "scrolled": true
   },
   "outputs": [
    {
     "data": {
      "text/plain": [
       "Data Venda          int64\n",
       "Fabricante         object\n",
       "Produto            object\n",
       "Mês Venda           int64\n",
       "Valor Venda       float64\n",
       "Custo Total       float64\n",
       "Lucro             float64\n",
       "Valor Desconto    float64\n",
       "Quantidade          int64\n",
       "dtype: object"
      ]
     },
     "execution_count": 325,
     "metadata": {},
     "output_type": "execute_result"
    }
   ],
   "source": [
    "df_fabricantes.dtypes"
   ]
  },
  {
   "cell_type": "code",
   "execution_count": 326,
   "id": "540a5913",
   "metadata": {},
   "outputs": [
    {
     "data": {
      "text/plain": [
       "Data Venda         object\n",
       "Fabricante         object\n",
       "Produto            object\n",
       "Mês Venda          object\n",
       "Valor Venda       float64\n",
       "Custo Total       float64\n",
       "Lucro             float64\n",
       "Valor Desconto    float64\n",
       "Quantidade          int64\n",
       "dtype: object"
      ]
     },
     "execution_count": 326,
     "metadata": {},
     "output_type": "execute_result"
    }
   ],
   "source": [
    "df_fabricantes[\"Data Venda\"] = df_fabricantes[\"Data Venda\"].astype(\"object\")\n",
    "df_fabricantes[\"Mês Venda\"] = df_fabricantes[\"Mês Venda\"].astype(\"object\")\n",
    "df_fabricantes.dtypes"
   ]
  },
  {
   "cell_type": "markdown",
   "id": "ceb9023c",
   "metadata": {},
   "source": [
    "## 1.3. Tratamento da base de dados ID Loja."
   ]
  },
  {
   "cell_type": "code",
   "execution_count": 327,
   "id": "08e720ae",
   "metadata": {},
   "outputs": [
    {
     "data": {
      "text/plain": [
       "array([199, 306, 307], dtype=object)"
      ]
     },
     "execution_count": 327,
     "metadata": {},
     "output_type": "execute_result"
    }
   ],
   "source": [
    "df[\"ID Loja\"].unique()"
   ]
  },
  {
   "cell_type": "code",
   "execution_count": 328,
   "id": "bda06dc1",
   "metadata": {},
   "outputs": [],
   "source": [
    "df_idloja = df.groupby([df[\"Data Venda\"].dt.year,\"ID Loja\",\"Marca\", \"Mês Venda\"]).agg({\"Valor Venda\":\"sum\", \"Custo Total\":\"sum\", \"Lucro\":\"sum\", \"Valor Desconto\":\"sum\", \"Quantidade\":\"sum\",\"Tempo Envio\":\"mean\"}).reset_index()"
   ]
  },
  {
   "cell_type": "code",
   "execution_count": 329,
   "id": "87662fcc",
   "metadata": {},
   "outputs": [],
   "source": [
    "df_idloja = df_idloja.rename(columns={\"Tempo Envio\":\"Media Tempo Envio\"})"
   ]
  },
  {
   "cell_type": "code",
   "execution_count": 330,
   "id": "ee6a18fd",
   "metadata": {
    "scrolled": true
   },
   "outputs": [
    {
     "data": {
      "text/html": [
       "<div>\n",
       "<style scoped>\n",
       "    .dataframe tbody tr th:only-of-type {\n",
       "        vertical-align: middle;\n",
       "    }\n",
       "\n",
       "    .dataframe tbody tr th {\n",
       "        vertical-align: top;\n",
       "    }\n",
       "\n",
       "    .dataframe thead th {\n",
       "        text-align: right;\n",
       "    }\n",
       "</style>\n",
       "<table border=\"1\" class=\"dataframe\">\n",
       "  <thead>\n",
       "    <tr style=\"text-align: right;\">\n",
       "      <th></th>\n",
       "      <th>Data Venda</th>\n",
       "      <th>ID Loja</th>\n",
       "      <th>Marca</th>\n",
       "      <th>Mês Venda</th>\n",
       "      <th>Valor Venda</th>\n",
       "      <th>Custo Total</th>\n",
       "      <th>Lucro</th>\n",
       "      <th>Valor Desconto</th>\n",
       "      <th>Quantidade</th>\n",
       "      <th>Media Tempo Envio</th>\n",
       "    </tr>\n",
       "  </thead>\n",
       "  <tbody>\n",
       "    <tr>\n",
       "      <th>0</th>\n",
       "      <td>2008</td>\n",
       "      <td>199</td>\n",
       "      <td>Adventure Works</td>\n",
       "      <td>1</td>\n",
       "      <td>14,402.00</td>\n",
       "      <td>6,971.60</td>\n",
       "      <td>7,430.40</td>\n",
       "      <td>758.00</td>\n",
       "      <td>20</td>\n",
       "      <td>9.50</td>\n",
       "    </tr>\n",
       "    <tr>\n",
       "      <th>1</th>\n",
       "      <td>2008</td>\n",
       "      <td>199</td>\n",
       "      <td>Adventure Works</td>\n",
       "      <td>2</td>\n",
       "      <td>24,483.40</td>\n",
       "      <td>11,851.72</td>\n",
       "      <td>12,631.68</td>\n",
       "      <td>1,288.60</td>\n",
       "      <td>34</td>\n",
       "      <td>10.00</td>\n",
       "    </tr>\n",
       "    <tr>\n",
       "      <th>2</th>\n",
       "      <td>2008</td>\n",
       "      <td>199</td>\n",
       "      <td>Adventure Works</td>\n",
       "      <td>3</td>\n",
       "      <td>18,002.50</td>\n",
       "      <td>8,714.50</td>\n",
       "      <td>9,288.00</td>\n",
       "      <td>947.50</td>\n",
       "      <td>25</td>\n",
       "      <td>8.75</td>\n",
       "    </tr>\n",
       "    <tr>\n",
       "      <th>3</th>\n",
       "      <td>2008</td>\n",
       "      <td>199</td>\n",
       "      <td>Adventure Works</td>\n",
       "      <td>5</td>\n",
       "      <td>4,548.00</td>\n",
       "      <td>2,091.48</td>\n",
       "      <td>2,456.52</td>\n",
       "      <td>0.00</td>\n",
       "      <td>6</td>\n",
       "      <td>20.00</td>\n",
       "    </tr>\n",
       "    <tr>\n",
       "      <th>4</th>\n",
       "      <td>2008</td>\n",
       "      <td>199</td>\n",
       "      <td>Adventure Works</td>\n",
       "      <td>6</td>\n",
       "      <td>27,288.00</td>\n",
       "      <td>12,548.88</td>\n",
       "      <td>14,739.12</td>\n",
       "      <td>0.00</td>\n",
       "      <td>36</td>\n",
       "      <td>12.00</td>\n",
       "    </tr>\n",
       "  </tbody>\n",
       "</table>\n",
       "</div>"
      ],
      "text/plain": [
       "   Data Venda  ID Loja            Marca  Mês Venda          Valor Venda  \\\n",
       "0        2008      199  Adventure Works          1            14,402.00   \n",
       "1        2008      199  Adventure Works          2            24,483.40   \n",
       "2        2008      199  Adventure Works          3            18,002.50   \n",
       "3        2008      199  Adventure Works          5             4,548.00   \n",
       "4        2008      199  Adventure Works          6            27,288.00   \n",
       "\n",
       "           Custo Total                Lucro       Valor Desconto  Quantidade  \\\n",
       "0             6,971.60             7,430.40               758.00          20   \n",
       "1            11,851.72            12,631.68             1,288.60          34   \n",
       "2             8,714.50             9,288.00               947.50          25   \n",
       "3             2,091.48             2,456.52                 0.00           6   \n",
       "4            12,548.88            14,739.12                 0.00          36   \n",
       "\n",
       "     Media Tempo Envio  \n",
       "0                 9.50  \n",
       "1                10.00  \n",
       "2                 8.75  \n",
       "3                20.00  \n",
       "4                12.00  "
      ]
     },
     "execution_count": 330,
     "metadata": {},
     "output_type": "execute_result"
    }
   ],
   "source": [
    "df_idloja.head()"
   ]
  },
  {
   "cell_type": "code",
   "execution_count": 331,
   "id": "f69ead05",
   "metadata": {},
   "outputs": [
    {
     "data": {
      "text/plain": [
       "Data Venda            object\n",
       "ID Loja               object\n",
       "Marca                 object\n",
       "Mês Venda             object\n",
       "Valor Venda          float64\n",
       "Custo Total          float64\n",
       "Lucro                float64\n",
       "Valor Desconto       float64\n",
       "Quantidade             int64\n",
       "Media Tempo Envio    float64\n",
       "dtype: object"
      ]
     },
     "execution_count": 331,
     "metadata": {},
     "output_type": "execute_result"
    }
   ],
   "source": [
    "df_idloja[\"ID Loja\"] = df_idloja[\"ID Loja\"].astype(\"object\")\n",
    "df_idloja[\"Mês Venda\"] = df_idloja[\"Mês Venda\"].astype(\"object\")\n",
    "df_idloja[\"Data Venda\"] = df_idloja[\"Data Venda\"].astype(\"object\") \n",
    "df_idloja.dtypes"
   ]
  },
  {
   "cell_type": "markdown",
   "id": "ffa7b95d",
   "metadata": {},
   "source": [
    "# 2. Extração de informações para insights "
   ]
  },
  {
   "cell_type": "markdown",
   "id": "ffe5c0a2",
   "metadata": {},
   "source": [
    "## 2.1. Base geral de dados."
   ]
  },
  {
   "cell_type": "code",
   "execution_count": 332,
   "id": "ee02a1a8",
   "metadata": {
    "scrolled": true
   },
   "outputs": [
    {
     "data": {
      "text/html": [
       "<div>\n",
       "<style scoped>\n",
       "    .dataframe tbody tr th:only-of-type {\n",
       "        vertical-align: middle;\n",
       "    }\n",
       "\n",
       "    .dataframe tbody tr th {\n",
       "        vertical-align: top;\n",
       "    }\n",
       "\n",
       "    .dataframe thead th {\n",
       "        text-align: right;\n",
       "    }\n",
       "</style>\n",
       "<table border=\"1\" class=\"dataframe\">\n",
       "  <thead>\n",
       "    <tr style=\"text-align: right;\">\n",
       "      <th></th>\n",
       "      <th>Data Venda</th>\n",
       "      <th>Data Envio</th>\n",
       "      <th>ID Loja</th>\n",
       "      <th>ID Produto</th>\n",
       "      <th>ID Cliente</th>\n",
       "      <th>No. Venda</th>\n",
       "      <th>Custo Unitário</th>\n",
       "      <th>Preço Unitário</th>\n",
       "      <th>Quantidade</th>\n",
       "      <th>Valor Desconto</th>\n",
       "      <th>...</th>\n",
       "      <th>Produto</th>\n",
       "      <th>Fabricante</th>\n",
       "      <th>Marca</th>\n",
       "      <th>Classe</th>\n",
       "      <th>Cor</th>\n",
       "      <th>Ano Venda</th>\n",
       "      <th>Mês Venda</th>\n",
       "      <th>Custo Total</th>\n",
       "      <th>Lucro</th>\n",
       "      <th>Tempo Envio</th>\n",
       "    </tr>\n",
       "  </thead>\n",
       "  <tbody>\n",
       "    <tr>\n",
       "      <th>0</th>\n",
       "      <td>2008-05-09</td>\n",
       "      <td>2008-05-29</td>\n",
       "      <td>199</td>\n",
       "      <td>384</td>\n",
       "      <td>18839</td>\n",
       "      <td>200805093CS607</td>\n",
       "      <td>348.58</td>\n",
       "      <td>758.00</td>\n",
       "      <td>6</td>\n",
       "      <td>0.00</td>\n",
       "      <td>...</td>\n",
       "      <td>Adventure Works Laptop15.4W M1548 Red</td>\n",
       "      <td>Adventure Works</td>\n",
       "      <td>Adventure Works</td>\n",
       "      <td>Regular</td>\n",
       "      <td>Red</td>\n",
       "      <td>2008</td>\n",
       "      <td>5</td>\n",
       "      <td>2,091.48</td>\n",
       "      <td>2,456.52</td>\n",
       "      <td>20</td>\n",
       "    </tr>\n",
       "    <tr>\n",
       "      <th>1</th>\n",
       "      <td>2008-05-12</td>\n",
       "      <td>2008-05-17</td>\n",
       "      <td>306</td>\n",
       "      <td>384</td>\n",
       "      <td>19051</td>\n",
       "      <td>200805123CS567</td>\n",
       "      <td>348.58</td>\n",
       "      <td>758.00</td>\n",
       "      <td>6</td>\n",
       "      <td>0.00</td>\n",
       "      <td>...</td>\n",
       "      <td>Adventure Works Laptop15.4W M1548 Red</td>\n",
       "      <td>Adventure Works</td>\n",
       "      <td>Adventure Works</td>\n",
       "      <td>Regular</td>\n",
       "      <td>Red</td>\n",
       "      <td>2008</td>\n",
       "      <td>5</td>\n",
       "      <td>2,091.48</td>\n",
       "      <td>2,456.52</td>\n",
       "      <td>5</td>\n",
       "    </tr>\n",
       "    <tr>\n",
       "      <th>2</th>\n",
       "      <td>2008-05-14</td>\n",
       "      <td>2008-05-20</td>\n",
       "      <td>306</td>\n",
       "      <td>384</td>\n",
       "      <td>19052</td>\n",
       "      <td>200805143CS576</td>\n",
       "      <td>348.58</td>\n",
       "      <td>758.00</td>\n",
       "      <td>6</td>\n",
       "      <td>0.00</td>\n",
       "      <td>...</td>\n",
       "      <td>Adventure Works Laptop15.4W M1548 Red</td>\n",
       "      <td>Adventure Works</td>\n",
       "      <td>Adventure Works</td>\n",
       "      <td>Regular</td>\n",
       "      <td>Red</td>\n",
       "      <td>2008</td>\n",
       "      <td>5</td>\n",
       "      <td>2,091.48</td>\n",
       "      <td>2,456.52</td>\n",
       "      <td>6</td>\n",
       "    </tr>\n",
       "    <tr>\n",
       "      <th>3</th>\n",
       "      <td>2008-05-21</td>\n",
       "      <td>2008-05-27</td>\n",
       "      <td>306</td>\n",
       "      <td>384</td>\n",
       "      <td>19052</td>\n",
       "      <td>200805213CS576</td>\n",
       "      <td>348.58</td>\n",
       "      <td>758.00</td>\n",
       "      <td>6</td>\n",
       "      <td>0.00</td>\n",
       "      <td>...</td>\n",
       "      <td>Adventure Works Laptop15.4W M1548 Red</td>\n",
       "      <td>Adventure Works</td>\n",
       "      <td>Adventure Works</td>\n",
       "      <td>Regular</td>\n",
       "      <td>Red</td>\n",
       "      <td>2008</td>\n",
       "      <td>5</td>\n",
       "      <td>2,091.48</td>\n",
       "      <td>2,456.52</td>\n",
       "      <td>6</td>\n",
       "    </tr>\n",
       "    <tr>\n",
       "      <th>4</th>\n",
       "      <td>2008-06-20</td>\n",
       "      <td>2008-06-27</td>\n",
       "      <td>306</td>\n",
       "      <td>384</td>\n",
       "      <td>19053</td>\n",
       "      <td>200806203CS586</td>\n",
       "      <td>348.58</td>\n",
       "      <td>758.00</td>\n",
       "      <td>6</td>\n",
       "      <td>0.00</td>\n",
       "      <td>...</td>\n",
       "      <td>Adventure Works Laptop15.4W M1548 Red</td>\n",
       "      <td>Adventure Works</td>\n",
       "      <td>Adventure Works</td>\n",
       "      <td>Regular</td>\n",
       "      <td>Red</td>\n",
       "      <td>2008</td>\n",
       "      <td>6</td>\n",
       "      <td>2,091.48</td>\n",
       "      <td>2,456.52</td>\n",
       "      <td>7</td>\n",
       "    </tr>\n",
       "  </tbody>\n",
       "</table>\n",
       "<p>5 rows × 21 columns</p>\n",
       "</div>"
      ],
      "text/plain": [
       "  Data Venda Data Envio ID Loja ID Produto ID Cliente       No. Venda  \\\n",
       "0 2008-05-09 2008-05-29     199        384      18839  200805093CS607   \n",
       "1 2008-05-12 2008-05-17     306        384      19051  200805123CS567   \n",
       "2 2008-05-14 2008-05-20     306        384      19052  200805143CS576   \n",
       "3 2008-05-21 2008-05-27     306        384      19052  200805213CS576   \n",
       "4 2008-06-20 2008-06-27     306        384      19053  200806203CS586   \n",
       "\n",
       "        Custo Unitário       Preço Unitário  Quantidade       Valor Desconto  \\\n",
       "0               348.58               758.00           6                 0.00   \n",
       "1               348.58               758.00           6                 0.00   \n",
       "2               348.58               758.00           6                 0.00   \n",
       "3               348.58               758.00           6                 0.00   \n",
       "4               348.58               758.00           6                 0.00   \n",
       "\n",
       "   ...                                Produto       Fabricante  \\\n",
       "0  ...  Adventure Works Laptop15.4W M1548 Red  Adventure Works   \n",
       "1  ...  Adventure Works Laptop15.4W M1548 Red  Adventure Works   \n",
       "2  ...  Adventure Works Laptop15.4W M1548 Red  Adventure Works   \n",
       "3  ...  Adventure Works Laptop15.4W M1548 Red  Adventure Works   \n",
       "4  ...  Adventure Works Laptop15.4W M1548 Red  Adventure Works   \n",
       "\n",
       "             Marca   Classe  Cor Ano Venda Mês Venda          Custo Total  \\\n",
       "0  Adventure Works  Regular  Red      2008         5             2,091.48   \n",
       "1  Adventure Works  Regular  Red      2008         5             2,091.48   \n",
       "2  Adventure Works  Regular  Red      2008         5             2,091.48   \n",
       "3  Adventure Works  Regular  Red      2008         5             2,091.48   \n",
       "4  Adventure Works  Regular  Red      2008         6             2,091.48   \n",
       "\n",
       "                 Lucro  Tempo Envio  \n",
       "0             2,456.52           20  \n",
       "1             2,456.52            5  \n",
       "2             2,456.52            6  \n",
       "3             2,456.52            6  \n",
       "4             2,456.52            7  \n",
       "\n",
       "[5 rows x 21 columns]"
      ]
     },
     "execution_count": 332,
     "metadata": {},
     "output_type": "execute_result"
    }
   ],
   "source": [
    "df.head()"
   ]
  },
  {
   "cell_type": "markdown",
   "id": "ba81d102",
   "metadata": {},
   "source": [
    "### 2.1.1. Análises gerais."
   ]
  },
  {
   "cell_type": "code",
   "execution_count": 333,
   "id": "f3687e5e",
   "metadata": {
    "scrolled": true
   },
   "outputs": [
    {
     "name": "stdout",
     "output_type": "stream",
     "text": [
      "Valor total das vendas:        5,984,606.14\n",
      "Valor total dos custos:         2,486,783.05\n",
      "Valor do total de descontos:           622,967.46\n",
      "Valor da margem de lucro:         3,497,823.09\n"
     ]
    }
   ],
   "source": [
    "# Análise dos totais de vendas, custos e lucro\n",
    "total_venda = df[\"Valor Venda\"].sum()\n",
    "total_custo = df[\"Custo Total\"].sum()\n",
    "total_desconto = df[\"Valor Desconto\"].sum()\n",
    "total_lucro = df[\"Lucro\"].sum()\n",
    "print(f'Valor total das vendas:{total_venda:20,.2f}')\n",
    "print(f'Valor total dos custos: {total_custo:20,.2f}')\n",
    "print(f'Valor do total de descontos: {total_desconto:20,.2f}')\n",
    "print(f'Valor da margem de lucro: {total_lucro:20,.2f}')"
   ]
  },
  {
   "cell_type": "code",
   "execution_count": 334,
   "id": "990248ff",
   "metadata": {},
   "outputs": [
    {
     "name": "stdout",
     "output_type": "stream",
     "text": [
      "Media das vendas:             6,620.14\n",
      "Media dos custos:             2,750.87\n",
      "Media dos descontos:               689.12\n",
      "Media do Lucro:             3,869.27\n"
     ]
    }
   ],
   "source": [
    "media_vendas = df[\"Valor Venda\"].mean()\n",
    "media_custo = df[\"Custo Total\"].mean()\n",
    "media_desconto = df[\"Valor Desconto\"].mean()\n",
    "media_lucro = df[\"Lucro\"].mean()\n",
    "print(f'Media das vendas: {media_vendas:20,.2f}')\n",
    "print(f'Media dos custos: {media_custo:20,.2f}')\n",
    "print(f'Media dos descontos: {media_desconto:20,.2f}')\n",
    "print(f'Media do Lucro: {media_lucro:20,.2f}')"
   ]
  },
  {
   "cell_type": "code",
   "execution_count": 335,
   "id": "a8688831",
   "metadata": {},
   "outputs": [
    {
     "data": {
      "text/html": [
       "<div>\n",
       "<style scoped>\n",
       "    .dataframe tbody tr th:only-of-type {\n",
       "        vertical-align: middle;\n",
       "    }\n",
       "\n",
       "    .dataframe tbody tr th {\n",
       "        vertical-align: top;\n",
       "    }\n",
       "\n",
       "    .dataframe thead th {\n",
       "        text-align: right;\n",
       "    }\n",
       "</style>\n",
       "<table border=\"1\" class=\"dataframe\">\n",
       "  <thead>\n",
       "    <tr style=\"text-align: right;\">\n",
       "      <th></th>\n",
       "      <th>Custo Unitário</th>\n",
       "      <th>Preço Unitário</th>\n",
       "      <th>Quantidade</th>\n",
       "      <th>Valor Desconto</th>\n",
       "      <th>Valor Venda</th>\n",
       "      <th>Custo Total</th>\n",
       "      <th>Lucro</th>\n",
       "      <th>Tempo Envio</th>\n",
       "    </tr>\n",
       "  </thead>\n",
       "  <tbody>\n",
       "    <tr>\n",
       "      <th>count</th>\n",
       "      <td>904.00</td>\n",
       "      <td>904.00</td>\n",
       "      <td>904.00</td>\n",
       "      <td>904.00</td>\n",
       "      <td>904.00</td>\n",
       "      <td>904.00</td>\n",
       "      <td>904.00</td>\n",
       "      <td>904.00</td>\n",
       "    </tr>\n",
       "    <tr>\n",
       "      <th>mean</th>\n",
       "      <td>272.01</td>\n",
       "      <td>742.53</td>\n",
       "      <td>62.95</td>\n",
       "      <td>689.12</td>\n",
       "      <td>6,620.14</td>\n",
       "      <td>2,750.87</td>\n",
       "      <td>3,869.27</td>\n",
       "      <td>8.54</td>\n",
       "    </tr>\n",
       "    <tr>\n",
       "      <th>std</th>\n",
       "      <td>129.77</td>\n",
       "      <td>368.59</td>\n",
       "      <td>148.95</td>\n",
       "      <td>822.36</td>\n",
       "      <td>4,319.41</td>\n",
       "      <td>1,646.07</td>\n",
       "      <td>2,823.81</td>\n",
       "      <td>3.06</td>\n",
       "    </tr>\n",
       "    <tr>\n",
       "      <th>min</th>\n",
       "      <td>5.09</td>\n",
       "      <td>9.99</td>\n",
       "      <td>2.00</td>\n",
       "      <td>0.00</td>\n",
       "      <td>159.84</td>\n",
       "      <td>81.44</td>\n",
       "      <td>78.40</td>\n",
       "      <td>4.00</td>\n",
       "    </tr>\n",
       "    <tr>\n",
       "      <th>25%</th>\n",
       "      <td>324.69</td>\n",
       "      <td>758.00</td>\n",
       "      <td>6.00</td>\n",
       "      <td>0.00</td>\n",
       "      <td>3,920.00</td>\n",
       "      <td>1,742.90</td>\n",
       "      <td>2,001.72</td>\n",
       "      <td>6.00</td>\n",
       "    </tr>\n",
       "    <tr>\n",
       "      <th>50%</th>\n",
       "      <td>330.66</td>\n",
       "      <td>980.00</td>\n",
       "      <td>9.00</td>\n",
       "      <td>461.17</td>\n",
       "      <td>5,798.70</td>\n",
       "      <td>2,091.48</td>\n",
       "      <td>3,405.24</td>\n",
       "      <td>9.00</td>\n",
       "    </tr>\n",
       "    <tr>\n",
       "      <th>75%</th>\n",
       "      <td>348.58</td>\n",
       "      <td>998.00</td>\n",
       "      <td>17.00</td>\n",
       "      <td>1,005.08</td>\n",
       "      <td>7,986.00</td>\n",
       "      <td>3,571.59</td>\n",
       "      <td>4,670.68</td>\n",
       "      <td>11.00</td>\n",
       "    </tr>\n",
       "    <tr>\n",
       "      <th>max</th>\n",
       "      <td>348.58</td>\n",
       "      <td>999.00</td>\n",
       "      <td>1,560.00</td>\n",
       "      <td>6,272.00</td>\n",
       "      <td>29,400.00</td>\n",
       "      <td>11,154.56</td>\n",
       "      <td>19,659.30</td>\n",
       "      <td>20.00</td>\n",
       "    </tr>\n",
       "  </tbody>\n",
       "</table>\n",
       "</div>"
      ],
      "text/plain": [
       "            Custo Unitário       Preço Unitário           Quantidade  \\\n",
       "count               904.00               904.00               904.00   \n",
       "mean                272.01               742.53                62.95   \n",
       "std                 129.77               368.59               148.95   \n",
       "min                   5.09                 9.99                 2.00   \n",
       "25%                 324.69               758.00                 6.00   \n",
       "50%                 330.66               980.00                 9.00   \n",
       "75%                 348.58               998.00                17.00   \n",
       "max                 348.58               999.00             1,560.00   \n",
       "\n",
       "            Valor Desconto          Valor Venda          Custo Total  \\\n",
       "count               904.00               904.00               904.00   \n",
       "mean                689.12             6,620.14             2,750.87   \n",
       "std                 822.36             4,319.41             1,646.07   \n",
       "min                   0.00               159.84                81.44   \n",
       "25%                   0.00             3,920.00             1,742.90   \n",
       "50%                 461.17             5,798.70             2,091.48   \n",
       "75%               1,005.08             7,986.00             3,571.59   \n",
       "max               6,272.00            29,400.00            11,154.56   \n",
       "\n",
       "                     Lucro          Tempo Envio  \n",
       "count               904.00               904.00  \n",
       "mean              3,869.27                 8.54  \n",
       "std               2,823.81                 3.06  \n",
       "min                  78.40                 4.00  \n",
       "25%               2,001.72                 6.00  \n",
       "50%               3,405.24                 9.00  \n",
       "75%               4,670.68                11.00  \n",
       "max              19,659.30                20.00  "
      ]
     },
     "execution_count": 335,
     "metadata": {},
     "output_type": "execute_result"
    }
   ],
   "source": [
    "df.describe()"
   ]
  },
  {
   "cell_type": "markdown",
   "id": "74601beb",
   "metadata": {},
   "source": [
    "### 2.1.2. Demonstrativo do faturamento por produto."
   ]
  },
  {
   "cell_type": "code",
   "execution_count": 336,
   "id": "2a71fe92",
   "metadata": {},
   "outputs": [
    {
     "data": {
      "text/plain": [
       "Produto\n",
       "Fabrikam Trendsetter 2/3'' 17mm X100 Grey                   961,037.00\n",
       "Fabrikam Trendsetter 2/3'' 17mm X100 Black                  821,396.80\n",
       "Fabrikam Trendsetter 1/3'' 8.5mm X200 Black                 799,809.39\n",
       "Fabrikam Trendsetter 1/3'' 8.5mm X200 Grey                  781,334.20\n",
       "Adventure Works Laptop15.4W M1548 Black                     746,789.18\n",
       "Fabrikam Trendsetter 1/3'' 8.5mm X200 White                 714,029.08\n",
       "Adventure Works Laptop15.4W M1548 Red                       709,813.94\n",
       "Headphone Adapter for Contoso Phone E130 Silver             226,591.38\n",
       "Headphone Adapter for Contoso Phone E130 White              223,805.17\n",
       "Name: Valor Venda, dtype: float64"
      ]
     },
     "execution_count": 336,
     "metadata": {},
     "output_type": "execute_result"
    }
   ],
   "source": [
    "df.groupby(\"Produto\")[\"Valor Venda\"].sum().sort_values(ascending=False) "
   ]
  },
  {
   "cell_type": "code",
   "execution_count": 337,
   "id": "21ff85f1",
   "metadata": {
    "scrolled": true
   },
   "outputs": [
    {
     "data": {
      "image/png": "[encoded data removed]",
      "text/plain": [
       "<Figure size 576x396 with 1 Axes>"
      ]
     },
     "metadata": {},
     "output_type": "display_data"
    }
   ],
   "source": [
    "df.groupby(\"Produto\")[\"Valor Venda\"].sum().sort_values(ascending=True).plot.barh(title = \"Faturamento x Produto\")\n",
    "plt.xlabel(\"Total em Faturamento\")\n",
    "plt.ylabel(\"Produto\");"
   ]
  },
  {
   "cell_type": "markdown",
   "id": "d52e7a8d",
   "metadata": {},
   "source": [
    "### 2.1.3. Demonstrativo de custos por produto."
   ]
  },
  {
   "cell_type": "code",
   "execution_count": 338,
   "id": "eb1384db",
   "metadata": {},
   "outputs": [
    {
     "data": {
      "text/plain": [
       "Produto\n",
       "Adventure Works Laptop15.4W M1548 Black                     379,603.62\n",
       "Adventure Works Laptop15.4W M1548 Red                       364,963.26\n",
       "Fabrikam Trendsetter 2/3'' 17mm X100 Grey                   352,938.03\n",
       "Fabrikam Trendsetter 2/3'' 17mm X100 Black                  300,662.94\n",
       "Fabrikam Trendsetter 1/3'' 8.5mm X200 Black                 292,595.16\n",
       "Fabrikam Trendsetter 1/3'' 8.5mm X200 Grey                  279,407.70\n",
       "Fabrikam Trendsetter 1/3'' 8.5mm X200 White                 260,890.74\n",
       "Headphone Adapter for Contoso Phone E130 Silver             128,430.88\n",
       "Headphone Adapter for Contoso Phone E130 White              127,290.72\n",
       "Name: Custo Total, dtype: float64"
      ]
     },
     "execution_count": 338,
     "metadata": {},
     "output_type": "execute_result"
    }
   ],
   "source": [
    "df.groupby(\"Produto\")[\"Custo Total\"].sum().sort_values(ascending=False)"
   ]
  },
  {
   "cell_type": "code",
   "execution_count": 339,
   "id": "6efdebd6",
   "metadata": {
    "scrolled": true
   },
   "outputs": [
    {
     "data": {
      "image/png": "[encoded data removed]",
      "text/plain": [
       "<Figure size 576x396 with 1 Axes>"
      ]
     },
     "metadata": {},
     "output_type": "display_data"
    }
   ],
   "source": [
    "df.groupby(\"Produto\")[\"Custo Total\"].sum().sort_values(ascending=True).plot.barh(title = \"Produto x Custo Total\")\n",
    "plt.xlabel(\"Custo Total\")\n",
    "plt.ylabel(\"Produto\");"
   ]
  },
  {
   "cell_type": "markdown",
   "id": "415f14c1",
   "metadata": {},
   "source": [
    "### 2.1.4. Demonstrativo do total de descontos por produto."
   ]
  },
  {
   "cell_type": "code",
   "execution_count": 462,
   "id": "9b5b77e0",
   "metadata": {
    "scrolled": true
   },
   "outputs": [
    {
     "data": {
      "text/plain": [
       "Produto\n",
       "Fabrikam Trendsetter 2/3'' 17mm X100 Grey                   104,223.00\n",
       "Fabrikam Trendsetter 2/3'' 17mm X100 Black                   86,083.20\n",
       "Adventure Works Laptop15.4W M1548 Red                        83,812.06\n",
       "Fabrikam Trendsetter 1/3'' 8.5mm X200 Black                  83,306.61\n",
       "Adventure Works Laptop15.4W M1548 Black                      78,672.82\n",
       "Fabrikam Trendsetter 1/3'' 8.5mm X200 White                  73,392.92\n",
       "Fabrikam Trendsetter 1/3'' 8.5mm X200 Grey                   61,975.80\n",
       "Headphone Adapter for Contoso Phone E130 White               26,024.75\n",
       "Headphone Adapter for Contoso Phone E130 Silver              25,476.30\n",
       "Name: Valor Desconto, dtype: float64"
      ]
     },
     "execution_count": 462,
     "metadata": {},
     "output_type": "execute_result"
    }
   ],
   "source": [
    "df.groupby(\"Produto\")[\"Valor Desconto\"].sum().sort_values(ascending=False)"
   ]
  },
  {
   "cell_type": "code",
   "execution_count": 463,
   "id": "64d22ffa",
   "metadata": {
    "scrolled": true
   },
   "outputs": [
    {
     "data": {
      "image/png": "[encoded data removed]",
      "text/plain": [
       "<Figure size 576x396 with 1 Axes>"
      ]
     },
     "metadata": {},
     "output_type": "display_data"
    }
   ],
   "source": [
    "df.groupby(\"Produto\")[\"Valor Desconto\"].sum().sort_values(ascending=True).plot.barh(title = \"Produto x Total de Descontos\")\n",
    "plt.xlabel(\"Total de Descontos\")\n",
    "plt.ylabel(\"Produto\");"
   ]
  },
  {
   "cell_type": "markdown",
   "id": "a5e1e9d8",
   "metadata": {},
   "source": [
    "### 2.1.5. Demonstrativo de produtos por lucro."
   ]
  },
  {
   "cell_type": "code",
   "execution_count": 464,
   "id": "512eec7a",
   "metadata": {},
   "outputs": [
    {
     "data": {
      "text/plain": [
       "Produto\n",
       "Fabrikam Trendsetter 2/3'' 17mm X100 Grey                   608,098.97\n",
       "Fabrikam Trendsetter 2/3'' 17mm X100 Black                  520,733.86\n",
       "Fabrikam Trendsetter 1/3'' 8.5mm X200 Black                 507,214.23\n",
       "Fabrikam Trendsetter 1/3'' 8.5mm X200 Grey                  501,926.50\n",
       "Fabrikam Trendsetter 1/3'' 8.5mm X200 White                 453,138.34\n",
       "Adventure Works Laptop15.4W M1548 Black                     367,185.56\n",
       "Adventure Works Laptop15.4W M1548 Red                       344,850.68\n",
       "Headphone Adapter for Contoso Phone E130 Silver              98,160.50\n",
       "Headphone Adapter for Contoso Phone E130 White               96,514.45\n",
       "Name: Lucro, dtype: float64"
      ]
     },
     "execution_count": 464,
     "metadata": {},
     "output_type": "execute_result"
    }
   ],
   "source": [
    "df.groupby(\"Produto\")[\"Lucro\"].sum().sort_values(ascending=False)"
   ]
  },
  {
   "cell_type": "code",
   "execution_count": 465,
   "id": "8741a231",
   "metadata": {
    "scrolled": true
   },
   "outputs": [
    {
     "data": {
      "image/png": "[encoded data removed]",
      "text/plain": [
       "<Figure size 576x396 with 1 Axes>"
      ]
     },
     "metadata": {},
     "output_type": "display_data"
    }
   ],
   "source": [
    "df.groupby(\"Produto\")[\"Lucro\"].sum().sort_values(ascending=True).plot.barh(title=\"Lucro x Produto\")\n",
    "plt.xlabel(\"Lucro\")\n",
    "plt.ylabel(\"Produto\");"
   ]
  },
  {
   "cell_type": "markdown",
   "id": "4983419f",
   "metadata": {},
   "source": [
    "### 2.1.6. Demonstrativo das Vendas em 2008."
   ]
  },
  {
   "cell_type": "code",
   "execution_count": 466,
   "id": "89cc6eb0",
   "metadata": {
    "scrolled": true
   },
   "outputs": [
    {
     "data": {
      "text/plain": [
       "Mês Venda\n",
       "1      153\n",
       "2      313\n",
       "3      188\n",
       "4      196\n",
       "5     1786\n",
       "6     3371\n",
       "7     1014\n",
       "8     1301\n",
       "9     1480\n",
       "10    1405\n",
       "11    2805\n",
       "12    4200\n",
       "Name: Quantidade, dtype: int64"
      ]
     },
     "execution_count": 466,
     "metadata": {},
     "output_type": "execute_result"
    }
   ],
   "source": [
    "vendas_2008 = df.loc[(df[\"Ano Venda\"] == 2008)]\n",
    "vendas_2008.groupby(\"Mês Venda\")[\"Quantidade\"].sum()"
   ]
  },
  {
   "cell_type": "code",
   "execution_count": 467,
   "id": "daebc663",
   "metadata": {},
   "outputs": [
    {
     "data": {
      "image/png": "[encoded data removed]",
      "text/plain": [
       "<Figure size 576x396 with 1 Axes>"
      ]
     },
     "metadata": {},
     "output_type": "display_data"
    }
   ],
   "source": [
    "vendas_2008.groupby(\"Mês Venda\")[\"Quantidade\"].sum().plot(title = \"Quantidade de Produtos Vendidos por Mês\", marker = \"o\")\n",
    "plt.xlabel(\"Mês\")\n",
    "plt.ylabel(\"Quantidade de Produtos Vendidos\")\n",
    "plt.legend();"
   ]
  },
  {
   "cell_type": "markdown",
   "id": "bc1844b0",
   "metadata": {},
   "source": [
    "### 2.1.7. Demonstrativo das vendas em 2009."
   ]
  },
  {
   "cell_type": "code",
   "execution_count": 468,
   "id": "342c8a4a",
   "metadata": {},
   "outputs": [
    {
     "data": {
      "text/plain": [
       "Mês Venda\n",
       "1     2396\n",
       "2     2553\n",
       "3     2050\n",
       "4     1015\n",
       "5      888\n",
       "6     6330\n",
       "7     4425\n",
       "8     1525\n",
       "9     2453\n",
       "10    4877\n",
       "11    4738\n",
       "12    5445\n",
       "Name: Quantidade, dtype: int64"
      ]
     },
     "execution_count": 468,
     "metadata": {},
     "output_type": "execute_result"
    }
   ],
   "source": [
    "vendas_2009 = df.loc[(df[\"Ano Venda\"] == 2009)]\n",
    "vendas_2009.groupby(\"Mês Venda\")[\"Quantidade\"].sum()"
   ]
  },
  {
   "cell_type": "code",
   "execution_count": 469,
   "id": "8d80e892",
   "metadata": {
    "scrolled": true
   },
   "outputs": [
    {
     "data": {
      "image/png": "[encoded data removed]",
      "text/plain": [
       "<Figure size 576x396 with 1 Axes>"
      ]
     },
     "metadata": {},
     "output_type": "display_data"
    }
   ],
   "source": [
    "vendas_2009.groupby(\"Mês Venda\")[\"Quantidade\"].sum().plot(title = \"Quantidade de Produtos Vendidos por Mês\", marker = \"o\")\n",
    "plt.xlabel(\"Mês\")\n",
    "plt.ylabel(\"Quantidade de Produtos Vendidos\")\n",
    "plt.legend();"
   ]
  },
  {
   "cell_type": "markdown",
   "id": "f2a46970",
   "metadata": {},
   "source": [
    "### 2.1.8. Download da base de dados utilizada."
   ]
  },
  {
   "cell_type": "code",
   "execution_count": 470,
   "id": "9a3eb947",
   "metadata": {},
   "outputs": [],
   "source": [
    "df.to_csv(\"Data Frame\", index=False)  # Ao rodar essa célula, faz dowload da tabela acima em formato csv"
   ]
  },
  {
   "cell_type": "markdown",
   "id": "80d1f668",
   "metadata": {},
   "source": [
    "## 2.2. Base de dados para análises por lojas."
   ]
  },
  {
   "cell_type": "code",
   "execution_count": 471,
   "id": "cfb49bef",
   "metadata": {
    "scrolled": true
   },
   "outputs": [
    {
     "data": {
      "text/html": [
       "<div>\n",
       "<style scoped>\n",
       "    .dataframe tbody tr th:only-of-type {\n",
       "        vertical-align: middle;\n",
       "    }\n",
       "\n",
       "    .dataframe tbody tr th {\n",
       "        vertical-align: top;\n",
       "    }\n",
       "\n",
       "    .dataframe thead th {\n",
       "        text-align: right;\n",
       "    }\n",
       "</style>\n",
       "<table border=\"1\" class=\"dataframe\">\n",
       "  <thead>\n",
       "    <tr style=\"text-align: right;\">\n",
       "      <th></th>\n",
       "      <th>Data Venda</th>\n",
       "      <th>ID Loja</th>\n",
       "      <th>Marca</th>\n",
       "      <th>Mês Venda</th>\n",
       "      <th>Valor Venda</th>\n",
       "      <th>Custo Total</th>\n",
       "      <th>Lucro</th>\n",
       "      <th>Valor Desconto</th>\n",
       "      <th>Quantidade</th>\n",
       "      <th>Media Tempo Envio</th>\n",
       "    </tr>\n",
       "  </thead>\n",
       "  <tbody>\n",
       "    <tr>\n",
       "      <th>0</th>\n",
       "      <td>2008</td>\n",
       "      <td>199</td>\n",
       "      <td>Adventure Works</td>\n",
       "      <td>1</td>\n",
       "      <td>14,402.00</td>\n",
       "      <td>6,971.60</td>\n",
       "      <td>7,430.40</td>\n",
       "      <td>758.00</td>\n",
       "      <td>20</td>\n",
       "      <td>9.50</td>\n",
       "    </tr>\n",
       "    <tr>\n",
       "      <th>1</th>\n",
       "      <td>2008</td>\n",
       "      <td>199</td>\n",
       "      <td>Adventure Works</td>\n",
       "      <td>2</td>\n",
       "      <td>24,483.40</td>\n",
       "      <td>11,851.72</td>\n",
       "      <td>12,631.68</td>\n",
       "      <td>1,288.60</td>\n",
       "      <td>34</td>\n",
       "      <td>10.00</td>\n",
       "    </tr>\n",
       "    <tr>\n",
       "      <th>2</th>\n",
       "      <td>2008</td>\n",
       "      <td>199</td>\n",
       "      <td>Adventure Works</td>\n",
       "      <td>3</td>\n",
       "      <td>18,002.50</td>\n",
       "      <td>8,714.50</td>\n",
       "      <td>9,288.00</td>\n",
       "      <td>947.50</td>\n",
       "      <td>25</td>\n",
       "      <td>8.75</td>\n",
       "    </tr>\n",
       "    <tr>\n",
       "      <th>3</th>\n",
       "      <td>2008</td>\n",
       "      <td>199</td>\n",
       "      <td>Adventure Works</td>\n",
       "      <td>5</td>\n",
       "      <td>4,548.00</td>\n",
       "      <td>2,091.48</td>\n",
       "      <td>2,456.52</td>\n",
       "      <td>0.00</td>\n",
       "      <td>6</td>\n",
       "      <td>20.00</td>\n",
       "    </tr>\n",
       "    <tr>\n",
       "      <th>4</th>\n",
       "      <td>2008</td>\n",
       "      <td>199</td>\n",
       "      <td>Adventure Works</td>\n",
       "      <td>6</td>\n",
       "      <td>27,288.00</td>\n",
       "      <td>12,548.88</td>\n",
       "      <td>14,739.12</td>\n",
       "      <td>0.00</td>\n",
       "      <td>36</td>\n",
       "      <td>12.00</td>\n",
       "    </tr>\n",
       "  </tbody>\n",
       "</table>\n",
       "</div>"
      ],
      "text/plain": [
       "  Data Venda ID Loja            Marca Mês Venda          Valor Venda  \\\n",
       "0       2008     199  Adventure Works         1            14,402.00   \n",
       "1       2008     199  Adventure Works         2            24,483.40   \n",
       "2       2008     199  Adventure Works         3            18,002.50   \n",
       "3       2008     199  Adventure Works         5             4,548.00   \n",
       "4       2008     199  Adventure Works         6            27,288.00   \n",
       "\n",
       "           Custo Total                Lucro       Valor Desconto  Quantidade  \\\n",
       "0             6,971.60             7,430.40               758.00          20   \n",
       "1            11,851.72            12,631.68             1,288.60          34   \n",
       "2             8,714.50             9,288.00               947.50          25   \n",
       "3             2,091.48             2,456.52                 0.00           6   \n",
       "4            12,548.88            14,739.12                 0.00          36   \n",
       "\n",
       "     Media Tempo Envio  \n",
       "0                 9.50  \n",
       "1                10.00  \n",
       "2                 8.75  \n",
       "3                20.00  \n",
       "4                12.00  "
      ]
     },
     "execution_count": 471,
     "metadata": {},
     "output_type": "execute_result"
    }
   ],
   "source": [
    "df_idloja.head()"
   ]
  },
  {
   "cell_type": "code",
   "execution_count": 472,
   "id": "3a3392ea",
   "metadata": {},
   "outputs": [
    {
     "data": {
      "text/plain": [
       "array([199, 306, 307], dtype=object)"
      ]
     },
     "execution_count": 472,
     "metadata": {},
     "output_type": "execute_result"
    }
   ],
   "source": [
    "df_idloja[\"ID Loja\"].unique()"
   ]
  },
  {
   "cell_type": "markdown",
   "id": "a1d2add0",
   "metadata": {},
   "source": [
    "### 2.2.1. Análises Gerais."
   ]
  },
  {
   "cell_type": "code",
   "execution_count": 473,
   "id": "891fba04",
   "metadata": {
    "scrolled": true
   },
   "outputs": [
    {
     "data": {
      "text/html": [
       "<div>\n",
       "<style scoped>\n",
       "    .dataframe tbody tr th:only-of-type {\n",
       "        vertical-align: middle;\n",
       "    }\n",
       "\n",
       "    .dataframe tbody tr th {\n",
       "        vertical-align: top;\n",
       "    }\n",
       "\n",
       "    .dataframe thead th {\n",
       "        text-align: right;\n",
       "    }\n",
       "</style>\n",
       "<table border=\"1\" class=\"dataframe\">\n",
       "  <thead>\n",
       "    <tr style=\"text-align: right;\">\n",
       "      <th></th>\n",
       "      <th>Valor Venda</th>\n",
       "      <th>Custo Total</th>\n",
       "      <th>Lucro</th>\n",
       "      <th>Valor Desconto</th>\n",
       "      <th>Quantidade</th>\n",
       "      <th>Media Tempo Envio</th>\n",
       "    </tr>\n",
       "  </thead>\n",
       "  <tbody>\n",
       "    <tr>\n",
       "      <th>count</th>\n",
       "      <td>174.00</td>\n",
       "      <td>174.00</td>\n",
       "      <td>174.00</td>\n",
       "      <td>174.00</td>\n",
       "      <td>174.00</td>\n",
       "      <td>174.00</td>\n",
       "    </tr>\n",
       "    <tr>\n",
       "      <th>mean</th>\n",
       "      <td>34,394.29</td>\n",
       "      <td>14,291.86</td>\n",
       "      <td>20,102.43</td>\n",
       "      <td>3,580.27</td>\n",
       "      <td>327.05</td>\n",
       "      <td>8.70</td>\n",
       "    </tr>\n",
       "    <tr>\n",
       "      <th>std</th>\n",
       "      <td>34,211.01</td>\n",
       "      <td>12,192.22</td>\n",
       "      <td>22,450.01</td>\n",
       "      <td>5,537.17</td>\n",
       "      <td>588.51</td>\n",
       "      <td>2.61</td>\n",
       "    </tr>\n",
       "    <tr>\n",
       "      <th>min</th>\n",
       "      <td>767.23</td>\n",
       "      <td>488.64</td>\n",
       "      <td>278.59</td>\n",
       "      <td>0.00</td>\n",
       "      <td>5.00</td>\n",
       "      <td>4.00</td>\n",
       "    </tr>\n",
       "    <tr>\n",
       "      <th>25%</th>\n",
       "      <td>9,907.03</td>\n",
       "      <td>4,963.56</td>\n",
       "      <td>4,731.27</td>\n",
       "      <td>0.00</td>\n",
       "      <td>29.00</td>\n",
       "      <td>7.00</td>\n",
       "    </tr>\n",
       "    <tr>\n",
       "      <th>50%</th>\n",
       "      <td>22,696.77</td>\n",
       "      <td>9,926.40</td>\n",
       "      <td>10,699.53</td>\n",
       "      <td>1,290.55</td>\n",
       "      <td>63.50</td>\n",
       "      <td>9.00</td>\n",
       "    </tr>\n",
       "    <tr>\n",
       "      <th>75%</th>\n",
       "      <td>47,493.00</td>\n",
       "      <td>20,069.40</td>\n",
       "      <td>27,599.45</td>\n",
       "      <td>4,358.50</td>\n",
       "      <td>165.75</td>\n",
       "      <td>10.62</td>\n",
       "    </tr>\n",
       "    <tr>\n",
       "      <th>max</th>\n",
       "      <td>172,512.00</td>\n",
       "      <td>57,156.66</td>\n",
       "      <td>115,355.34</td>\n",
       "      <td>33,055.20</td>\n",
       "      <td>2,880.00</td>\n",
       "      <td>20.00</td>\n",
       "    </tr>\n",
       "  </tbody>\n",
       "</table>\n",
       "</div>"
      ],
      "text/plain": [
       "               Valor Venda          Custo Total                Lucro  \\\n",
       "count               174.00               174.00               174.00   \n",
       "mean             34,394.29            14,291.86            20,102.43   \n",
       "std              34,211.01            12,192.22            22,450.01   \n",
       "min                 767.23               488.64               278.59   \n",
       "25%               9,907.03             4,963.56             4,731.27   \n",
       "50%              22,696.77             9,926.40            10,699.53   \n",
       "75%              47,493.00            20,069.40            27,599.45   \n",
       "max             172,512.00            57,156.66           115,355.34   \n",
       "\n",
       "            Valor Desconto           Quantidade    Media Tempo Envio  \n",
       "count               174.00               174.00               174.00  \n",
       "mean              3,580.27               327.05                 8.70  \n",
       "std               5,537.17               588.51                 2.61  \n",
       "min                   0.00                 5.00                 4.00  \n",
       "25%                   0.00                29.00                 7.00  \n",
       "50%               1,290.55                63.50                 9.00  \n",
       "75%               4,358.50               165.75                10.62  \n",
       "max              33,055.20             2,880.00                20.00  "
      ]
     },
     "execution_count": 473,
     "metadata": {},
     "output_type": "execute_result"
    }
   ],
   "source": [
    "df_idloja.describe()"
   ]
  },
  {
   "cell_type": "markdown",
   "id": "5b726488",
   "metadata": {},
   "source": [
    "### 2.2.2. Demonstrativos de custos por loja."
   ]
  },
  {
   "cell_type": "code",
   "execution_count": 474,
   "id": "1d9f5f3d",
   "metadata": {},
   "outputs": [
    {
     "data": {
      "text/plain": [
       "ID Loja\n",
       "307             893,036.98\n",
       "199             886,385.58\n",
       "306             707,360.49\n",
       "Name: Custo Total, dtype: float64"
      ]
     },
     "execution_count": 474,
     "metadata": {},
     "output_type": "execute_result"
    }
   ],
   "source": [
    "df_idloja.groupby(\"ID Loja\")[\"Custo Total\"].sum().sort_values(ascending=False)"
   ]
  },
  {
   "cell_type": "code",
   "execution_count": 475,
   "id": "e35a6753",
   "metadata": {
    "scrolled": true
   },
   "outputs": [
    {
     "data": {
      "image/png": "[encoded data removed]",
      "text/plain": [
       "<Figure size 576x396 with 1 Axes>"
      ]
     },
     "metadata": {},
     "output_type": "display_data"
    }
   ],
   "source": [
    "df_idloja.groupby(\"ID Loja\")[\"Custo Total\"].sum().sort_values(ascending=False).plot.bar(title = \"ID Lola x Custo Total\")\n",
    "plt.xlabel(\"ID Loja\")\n",
    "plt.ylabel(\"Custo Total\")\n",
    "plt.xticks(rotation=\"horizontal\");"
   ]
  },
  {
   "cell_type": "markdown",
   "id": "fa11f0d9",
   "metadata": {},
   "source": [
    "### 2.2.3. Demonstrativos de faturamento por ID Loja."
   ]
  },
  {
   "cell_type": "code",
   "execution_count": 476,
   "id": "9e8cc8f2",
   "metadata": {},
   "outputs": [
    {
     "data": {
      "text/plain": [
       "ID Loja\n",
       "199           2,181,104.09\n",
       "307           2,079,648.44\n",
       "306           1,723,853.61\n",
       "Name: Valor Venda, dtype: float64"
      ]
     },
     "execution_count": 476,
     "metadata": {},
     "output_type": "execute_result"
    }
   ],
   "source": [
    "df_idloja.groupby(\"ID Loja\")[\"Valor Venda\"].sum().sort_values(ascending=False)"
   ]
  },
  {
   "cell_type": "code",
   "execution_count": 477,
   "id": "9d4293fd",
   "metadata": {},
   "outputs": [
    {
     "data": {
      "image/png": "[encoded data removed]",
      "text/plain": [
       "<Figure size 576x396 with 1 Axes>"
      ]
     },
     "metadata": {},
     "output_type": "display_data"
    }
   ],
   "source": [
    "df_idloja.groupby(\"ID Loja\")[\"Valor Venda\"].sum().sort_values(ascending=False).plot.bar(title = \"ID Loja x Faturamento\")\n",
    "plt.xlabel(\"ID Loja\")\n",
    "plt.ylabel(\"Faturamento\")\n",
    "plt.xticks(rotation=\"horizontal\");"
   ]
  },
  {
   "cell_type": "markdown",
   "id": "7b67960b",
   "metadata": {},
   "source": [
    "### 2.2.4. Demonstrativo do total dos descontos por ID Loja."
   ]
  },
  {
   "cell_type": "code",
   "execution_count": 478,
   "id": "4275f0b4",
   "metadata": {},
   "outputs": [
    {
     "data": {
      "text/plain": [
       "ID Loja\n",
       "307             253,288.08\n",
       "199             211,611.60\n",
       "306             158,067.78\n",
       "Name: Valor Desconto, dtype: float64"
      ]
     },
     "execution_count": 478,
     "metadata": {},
     "output_type": "execute_result"
    }
   ],
   "source": [
    "df_idloja.groupby(\"ID Loja\")[\"Valor Desconto\"].sum().sort_values(ascending=False)"
   ]
  },
  {
   "cell_type": "code",
   "execution_count": 479,
   "id": "edb45a7b",
   "metadata": {},
   "outputs": [
    {
     "data": {
      "image/png": "[encoded data removed]",
      "text/plain": [
       "<Figure size 576x396 with 1 Axes>"
      ]
     },
     "metadata": {},
     "output_type": "display_data"
    }
   ],
   "source": [
    "df_idloja.groupby(\"ID Loja\")[\"Valor Desconto\"].sum().sort_values(ascending=False).plot.bar(title = \"ID Loja x Total de Descontos\")\n",
    "plt.xlabel(\"ID Loja\")\n",
    "plt.ylabel(\"Faturamento\")\n",
    "plt.xticks(rotation = \"horizontal\");"
   ]
  },
  {
   "cell_type": "markdown",
   "id": "4c7d2155",
   "metadata": {},
   "source": [
    "### 2.2.5. Demonstrativo do lucro por loja."
   ]
  },
  {
   "cell_type": "code",
   "execution_count": 480,
   "id": "fa802a4a",
   "metadata": {},
   "outputs": [
    {
     "data": {
      "text/plain": [
       "ID Loja\n",
       "199           1,294,718.51\n",
       "307           1,186,611.46\n",
       "306           1,016,493.12\n",
       "Name: Lucro, dtype: float64"
      ]
     },
     "execution_count": 480,
     "metadata": {},
     "output_type": "execute_result"
    }
   ],
   "source": [
    "df_idloja.groupby(\"ID Loja\")[\"Lucro\"].sum().sort_values(ascending=False)"
   ]
  },
  {
   "cell_type": "code",
   "execution_count": 481,
   "id": "3577ea7c",
   "metadata": {},
   "outputs": [
    {
     "data": {
      "image/png": "[encoded data removed]",
      "text/plain": [
       "<Figure size 576x396 with 1 Axes>"
      ]
     },
     "metadata": {},
     "output_type": "display_data"
    }
   ],
   "source": [
    "df_idloja.groupby(\"ID Loja\")[\"Lucro\"].sum().sort_values(ascending=False).plot.bar(title = \"ID Loja x Lucro\")\n",
    "plt.xlabel(\"ID Loja\")\n",
    "plt.ylabel(\"Lucro\")\n",
    "plt.xticks(rotation = \"horizontal\");"
   ]
  },
  {
   "cell_type": "markdown",
   "id": "91c61891",
   "metadata": {},
   "source": [
    "### 2.2.6. Demonstrativo da media de tempo de envio por loja."
   ]
  },
  {
   "cell_type": "code",
   "execution_count": 482,
   "id": "4d6f2f83",
   "metadata": {},
   "outputs": [
    {
     "data": {
      "text/plain": [
       "ID Loja\n",
       "307                   8.90\n",
       "199                   8.76\n",
       "306                   8.43\n",
       "Name: Media Tempo Envio, dtype: float64"
      ]
     },
     "execution_count": 482,
     "metadata": {},
     "output_type": "execute_result"
    }
   ],
   "source": [
    "df_idloja.groupby(\"ID Loja\")[\"Media Tempo Envio\"].mean().sort_values(ascending=False)"
   ]
  },
  {
   "cell_type": "code",
   "execution_count": 483,
   "id": "5a3b0384",
   "metadata": {
    "scrolled": true
   },
   "outputs": [
    {
     "data": {
      "image/png": "[encoded data removed]",
      "text/plain": [
       "<Figure size 576x396 with 1 Axes>"
      ]
     },
     "metadata": {},
     "output_type": "display_data"
    }
   ],
   "source": [
    "df_idloja.groupby(\"ID Loja\")[\"Media Tempo Envio\"].mean().sort_values(ascending=False).plot.bar(title = \"ID Loja x Media de Tempo de Envio\")\n",
    "plt.xlabel(\"ID Loja\")\n",
    "plt.ylabel(\"Media de Tempo de Envio\")\n",
    "plt.xticks(rotation = \"horizontal\");"
   ]
  },
  {
   "cell_type": "markdown",
   "id": "800dec1f",
   "metadata": {},
   "source": [
    "### 2.2.6. Análise de lucro por ano."
   ]
  },
  {
   "cell_type": "code",
   "execution_count": 549,
   "id": "92358679",
   "metadata": {},
   "outputs": [
    {
     "data": {
      "text/plain": [
       "Mês Venda\n",
       "1               40,824.01\n",
       "2              108,810.14\n",
       "3               15,089.12\n",
       "5               61,237.92\n",
       "6               39,788.82\n",
       "7               71,496.18\n",
       "10              36,346.51\n",
       "11              22,328.09\n",
       "12              27,534.90\n",
       "Name: Lucro, dtype: float64"
      ]
     },
     "execution_count": 549,
     "metadata": {},
     "output_type": "execute_result"
    }
   ],
   "source": [
    "df_idloja2008 = idloja_306.loc[(idloja_306[\"Data Venda\"] == 2008)]\n",
    "idloja306_2009.groupby(\"Mês Venda\")[\"Lucro\"].sum()"
   ]
  },
  {
   "cell_type": "markdown",
   "id": "240c3ade",
   "metadata": {},
   "source": [
    "#### 2.2.6.1 Análises da ID Loja 307."
   ]
  },
  {
   "cell_type": "code",
   "execution_count": 484,
   "id": "cb04056b",
   "metadata": {},
   "outputs": [
    {
     "data": {
      "text/html": [
       "<div>\n",
       "<style scoped>\n",
       "    .dataframe tbody tr th:only-of-type {\n",
       "        vertical-align: middle;\n",
       "    }\n",
       "\n",
       "    .dataframe tbody tr th {\n",
       "        vertical-align: top;\n",
       "    }\n",
       "\n",
       "    .dataframe thead th {\n",
       "        text-align: right;\n",
       "    }\n",
       "</style>\n",
       "<table border=\"1\" class=\"dataframe\">\n",
       "  <thead>\n",
       "    <tr style=\"text-align: right;\">\n",
       "      <th></th>\n",
       "      <th>Data Venda</th>\n",
       "      <th>ID Loja</th>\n",
       "      <th>Marca</th>\n",
       "      <th>Mês Venda</th>\n",
       "      <th>Valor Venda</th>\n",
       "      <th>Custo Total</th>\n",
       "      <th>Lucro</th>\n",
       "      <th>Valor Desconto</th>\n",
       "      <th>Quantidade</th>\n",
       "      <th>Media Tempo Envio</th>\n",
       "    </tr>\n",
       "  </thead>\n",
       "  <tbody>\n",
       "    <tr>\n",
       "      <th>59</th>\n",
       "      <td>2008</td>\n",
       "      <td>307</td>\n",
       "      <td>Adventure Works</td>\n",
       "      <td>2</td>\n",
       "      <td>35,171.20</td>\n",
       "      <td>20,217.64</td>\n",
       "      <td>14,953.56</td>\n",
       "      <td>8,792.80</td>\n",
       "      <td>58</td>\n",
       "      <td>8.00</td>\n",
       "    </tr>\n",
       "    <tr>\n",
       "      <th>60</th>\n",
       "      <td>2008</td>\n",
       "      <td>307</td>\n",
       "      <td>Adventure Works</td>\n",
       "      <td>4</td>\n",
       "      <td>3,032.00</td>\n",
       "      <td>1,742.90</td>\n",
       "      <td>1,289.10</td>\n",
       "      <td>758.00</td>\n",
       "      <td>5</td>\n",
       "      <td>11.00</td>\n",
       "    </tr>\n",
       "    <tr>\n",
       "      <th>61</th>\n",
       "      <td>2008</td>\n",
       "      <td>307</td>\n",
       "      <td>Adventure Works</td>\n",
       "      <td>5</td>\n",
       "      <td>10,915.20</td>\n",
       "      <td>5,577.28</td>\n",
       "      <td>5,337.92</td>\n",
       "      <td>1,212.80</td>\n",
       "      <td>16</td>\n",
       "      <td>13.00</td>\n",
       "    </tr>\n",
       "    <tr>\n",
       "      <th>62</th>\n",
       "      <td>2008</td>\n",
       "      <td>307</td>\n",
       "      <td>Adventure Works</td>\n",
       "      <td>6</td>\n",
       "      <td>25,923.60</td>\n",
       "      <td>13,246.04</td>\n",
       "      <td>12,677.56</td>\n",
       "      <td>2,880.40</td>\n",
       "      <td>38</td>\n",
       "      <td>7.33</td>\n",
       "    </tr>\n",
       "    <tr>\n",
       "      <th>63</th>\n",
       "      <td>2008</td>\n",
       "      <td>307</td>\n",
       "      <td>Adventure Works</td>\n",
       "      <td>7</td>\n",
       "      <td>10,612.00</td>\n",
       "      <td>4,880.12</td>\n",
       "      <td>5,731.88</td>\n",
       "      <td>0.00</td>\n",
       "      <td>14</td>\n",
       "      <td>6.00</td>\n",
       "    </tr>\n",
       "  </tbody>\n",
       "</table>\n",
       "</div>"
      ],
      "text/plain": [
       "   Data Venda ID Loja            Marca Mês Venda          Valor Venda  \\\n",
       "59       2008     307  Adventure Works         2            35,171.20   \n",
       "60       2008     307  Adventure Works         4             3,032.00   \n",
       "61       2008     307  Adventure Works         5            10,915.20   \n",
       "62       2008     307  Adventure Works         6            25,923.60   \n",
       "63       2008     307  Adventure Works         7            10,612.00   \n",
       "\n",
       "            Custo Total                Lucro       Valor Desconto  Quantidade  \\\n",
       "59            20,217.64            14,953.56             8,792.80          58   \n",
       "60             1,742.90             1,289.10               758.00           5   \n",
       "61             5,577.28             5,337.92             1,212.80          16   \n",
       "62            13,246.04            12,677.56             2,880.40          38   \n",
       "63             4,880.12             5,731.88                 0.00          14   \n",
       "\n",
       "      Media Tempo Envio  \n",
       "59                 8.00  \n",
       "60                11.00  \n",
       "61                13.00  \n",
       "62                 7.33  \n",
       "63                 6.00  "
      ]
     },
     "execution_count": 484,
     "metadata": {},
     "output_type": "execute_result"
    }
   ],
   "source": [
    "idloja_307 = df_idloja[df_idloja[\"ID Loja\"] == 307]\n",
    "idloja_307.head()"
   ]
  },
  {
   "cell_type": "markdown",
   "id": "6cbcb9c2",
   "metadata": {},
   "source": [
    "##### Análises Gerais"
   ]
  },
  {
   "cell_type": "code",
   "execution_count": 485,
   "id": "01ae4bce",
   "metadata": {},
   "outputs": [
    {
     "data": {
      "text/html": [
       "<div>\n",
       "<style scoped>\n",
       "    .dataframe tbody tr th:only-of-type {\n",
       "        vertical-align: middle;\n",
       "    }\n",
       "\n",
       "    .dataframe tbody tr th {\n",
       "        vertical-align: top;\n",
       "    }\n",
       "\n",
       "    .dataframe thead th {\n",
       "        text-align: right;\n",
       "    }\n",
       "</style>\n",
       "<table border=\"1\" class=\"dataframe\">\n",
       "  <thead>\n",
       "    <tr style=\"text-align: right;\">\n",
       "      <th></th>\n",
       "      <th>Valor Venda</th>\n",
       "      <th>Custo Total</th>\n",
       "      <th>Lucro</th>\n",
       "      <th>Valor Desconto</th>\n",
       "      <th>Quantidade</th>\n",
       "      <th>Media Tempo Envio</th>\n",
       "    </tr>\n",
       "  </thead>\n",
       "  <tbody>\n",
       "    <tr>\n",
       "      <th>count</th>\n",
       "      <td>56.00</td>\n",
       "      <td>56.00</td>\n",
       "      <td>56.00</td>\n",
       "      <td>56.00</td>\n",
       "      <td>56.00</td>\n",
       "      <td>56.00</td>\n",
       "    </tr>\n",
       "    <tr>\n",
       "      <th>mean</th>\n",
       "      <td>37,136.58</td>\n",
       "      <td>15,947.09</td>\n",
       "      <td>21,189.49</td>\n",
       "      <td>4,523.00</td>\n",
       "      <td>438.80</td>\n",
       "      <td>8.90</td>\n",
       "    </tr>\n",
       "    <tr>\n",
       "      <th>std</th>\n",
       "      <td>33,558.05</td>\n",
       "      <td>12,432.09</td>\n",
       "      <td>21,728.05</td>\n",
       "      <td>6,096.31</td>\n",
       "      <td>746.81</td>\n",
       "      <td>2.64</td>\n",
       "    </tr>\n",
       "    <tr>\n",
       "      <th>min</th>\n",
       "      <td>1,198.80</td>\n",
       "      <td>610.80</td>\n",
       "      <td>588.00</td>\n",
       "      <td>0.00</td>\n",
       "      <td>5.00</td>\n",
       "      <td>4.00</td>\n",
       "    </tr>\n",
       "    <tr>\n",
       "      <th>25%</th>\n",
       "      <td>10,839.40</td>\n",
       "      <td>6,239.52</td>\n",
       "      <td>5,267.36</td>\n",
       "      <td>0.00</td>\n",
       "      <td>36.00</td>\n",
       "      <td>7.00</td>\n",
       "    </tr>\n",
       "    <tr>\n",
       "      <th>50%</th>\n",
       "      <td>27,124.20</td>\n",
       "      <td>12,626.76</td>\n",
       "      <td>13,875.40</td>\n",
       "      <td>1,870.13</td>\n",
       "      <td>72.50</td>\n",
       "      <td>9.45</td>\n",
       "    </tr>\n",
       "    <tr>\n",
       "      <th>75%</th>\n",
       "      <td>48,661.01</td>\n",
       "      <td>22,309.12</td>\n",
       "      <td>26,698.73</td>\n",
       "      <td>8,568.29</td>\n",
       "      <td>486.00</td>\n",
       "      <td>11.00</td>\n",
       "    </tr>\n",
       "    <tr>\n",
       "      <th>max</th>\n",
       "      <td>148,944.00</td>\n",
       "      <td>49,348.26</td>\n",
       "      <td>99,595.74</td>\n",
       "      <td>24,069.40</td>\n",
       "      <td>2,880.00</td>\n",
       "      <td>13.00</td>\n",
       "    </tr>\n",
       "  </tbody>\n",
       "</table>\n",
       "</div>"
      ],
      "text/plain": [
       "               Valor Venda          Custo Total                Lucro  \\\n",
       "count                56.00                56.00                56.00   \n",
       "mean             37,136.58            15,947.09            21,189.49   \n",
       "std              33,558.05            12,432.09            21,728.05   \n",
       "min               1,198.80               610.80               588.00   \n",
       "25%              10,839.40             6,239.52             5,267.36   \n",
       "50%              27,124.20            12,626.76            13,875.40   \n",
       "75%              48,661.01            22,309.12            26,698.73   \n",
       "max             148,944.00            49,348.26            99,595.74   \n",
       "\n",
       "            Valor Desconto           Quantidade    Media Tempo Envio  \n",
       "count                56.00                56.00                56.00  \n",
       "mean              4,523.00               438.80                 8.90  \n",
       "std               6,096.31               746.81                 2.64  \n",
       "min                   0.00                 5.00                 4.00  \n",
       "25%                   0.00                36.00                 7.00  \n",
       "50%               1,870.13                72.50                 9.45  \n",
       "75%               8,568.29               486.00                11.00  \n",
       "max              24,069.40             2,880.00                13.00  "
      ]
     },
     "execution_count": 485,
     "metadata": {},
     "output_type": "execute_result"
    }
   ],
   "source": [
    "idloja_307.describe()"
   ]
  },
  {
   "cell_type": "markdown",
   "id": "e8789c3b",
   "metadata": {},
   "source": [
    "##### Análise de custos por marca."
   ]
  },
  {
   "cell_type": "code",
   "execution_count": 486,
   "id": "2a085692",
   "metadata": {},
   "outputs": [
    {
     "data": {
      "text/plain": [
       "Marca\n",
       "Fabrikam                    491,867.58\n",
       "Adventure Works             287,927.08\n",
       "Contoso                     113,242.32\n",
       "Name: Custo Total, dtype: float64"
      ]
     },
     "execution_count": 486,
     "metadata": {},
     "output_type": "execute_result"
    }
   ],
   "source": [
    "idloja_307.groupby(\"Marca\")[\"Custo Total\"].sum().sort_values(ascending=False)"
   ]
  },
  {
   "cell_type": "code",
   "execution_count": 487,
   "id": "f6e894dd",
   "metadata": {},
   "outputs": [
    {
     "data": {
      "image/png": "[encoded data removed]",
      "text/plain": [
       "<Figure size 576x396 with 1 Axes>"
      ]
     },
     "metadata": {},
     "output_type": "display_data"
    }
   ],
   "source": [
    "idloja_307.groupby(\"Marca\")[\"Custo Total\"].sum().sort_values(ascending=False).plot.bar(title = \"Custo Total por Marca\")\n",
    "plt.xlabel(\"Marca\")\n",
    "plt.ylabel(\"Custo Total\")\n",
    "plt.xticks(rotation = \"horizontal\");"
   ]
  },
  {
   "cell_type": "markdown",
   "id": "667036ba",
   "metadata": {},
   "source": [
    "##### Análise de faturamento por marca."
   ]
  },
  {
   "cell_type": "code",
   "execution_count": 488,
   "id": "e31647ca",
   "metadata": {},
   "outputs": [
    {
     "data": {
      "text/plain": [
       "Marca\n",
       "Fabrikam                  1,325,514.50\n",
       "Adventure Works             552,771.50\n",
       "Contoso                     201,362.44\n",
       "Name: Valor Venda, dtype: float64"
      ]
     },
     "execution_count": 488,
     "metadata": {},
     "output_type": "execute_result"
    }
   ],
   "source": [
    "idloja_307.groupby(\"Marca\")[\"Valor Venda\"].sum().sort_values(ascending=False)"
   ]
  },
  {
   "cell_type": "code",
   "execution_count": 489,
   "id": "a7cf269a",
   "metadata": {},
   "outputs": [
    {
     "data": {
      "image/png": "[encoded data removed]",
      "text/plain": [
       "<Figure size 576x396 with 1 Axes>"
      ]
     },
     "metadata": {},
     "output_type": "display_data"
    }
   ],
   "source": [
    "idloja_307.groupby(\"Marca\")[\"Valor Venda\"].sum().sort_values(ascending=False).plot.bar(title = \"Faturamento por Marca\")\n",
    "plt.xlabel(\"Marca\")\n",
    "plt.ylabel(\"Faturamento\")\n",
    "plt.xticks(rotation=\"horizontal\");"
   ]
  },
  {
   "cell_type": "markdown",
   "id": "165c241a",
   "metadata": {},
   "source": [
    "##### Análise de descontos por marca."
   ]
  },
  {
   "cell_type": "code",
   "execution_count": 490,
   "id": "4084831f",
   "metadata": {},
   "outputs": [
    {
     "data": {
      "text/plain": [
       "Marca\n",
       "Fabrikam                    159,056.50\n",
       "Adventure Works              73,336.50\n",
       "Contoso                      20,895.08\n",
       "Name: Valor Desconto, dtype: float64"
      ]
     },
     "execution_count": 490,
     "metadata": {},
     "output_type": "execute_result"
    }
   ],
   "source": [
    "idloja_307.groupby(\"Marca\")[\"Valor Desconto\"].sum().sort_values(ascending=False)"
   ]
  },
  {
   "cell_type": "code",
   "execution_count": 491,
   "id": "771e70f4",
   "metadata": {},
   "outputs": [
    {
     "data": {
      "image/png": "[encoded data removed]",
      "text/plain": [
       "<Figure size 576x396 with 1 Axes>"
      ]
     },
     "metadata": {},
     "output_type": "display_data"
    }
   ],
   "source": [
    "idloja_307.groupby(\"Marca\")[\"Valor Desconto\"].sum().sort_values(ascending=False).plot.bar(title = \"Total de Descontos por Marca\")\n",
    "plt.xlabel(\"Marca\")\n",
    "plt.ylabel(\"Total de Descontos\")\n",
    "plt.xticks(rotation=\"horizontal\");"
   ]
  },
  {
   "cell_type": "markdown",
   "id": "d4607237",
   "metadata": {},
   "source": [
    "##### Análises de quantidade de produtos vendidos por marca"
   ]
  },
  {
   "cell_type": "code",
   "execution_count": 492,
   "id": "d17ca51f",
   "metadata": {},
   "outputs": [
    {
     "data": {
      "text/plain": [
       "Marca\n",
       "Contoso            22248\n",
       "Fabrikam            1499\n",
       "Adventure Works      826\n",
       "Name: Quantidade, dtype: int64"
      ]
     },
     "execution_count": 492,
     "metadata": {},
     "output_type": "execute_result"
    }
   ],
   "source": [
    "idloja_307.groupby(\"Marca\")[\"Quantidade\"].sum().sort_values(ascending=False)"
   ]
  },
  {
   "cell_type": "code",
   "execution_count": 493,
   "id": "1761f855",
   "metadata": {},
   "outputs": [
    {
     "data": {
      "image/png": "[encoded data removed]",
      "text/plain": [
       "<Figure size 576x396 with 1 Axes>"
      ]
     },
     "metadata": {},
     "output_type": "display_data"
    }
   ],
   "source": [
    "idloja_307.groupby(\"Marca\")[\"Lucro\"].sum().sort_values(ascending=False).plot.bar(title = \"Quantidade de Produtos por Marca\")\n",
    "plt.xlabel(\"Quantidade de Produtos\")\n",
    "plt.ylabel(\"Lucro\")\n",
    "plt.xticks(rotation=\"horizontal\");"
   ]
  },
  {
   "cell_type": "markdown",
   "id": "05eacf8b",
   "metadata": {},
   "source": [
    "##### Análises de lucro por marca."
   ]
  },
  {
   "cell_type": "code",
   "execution_count": 494,
   "id": "af9c55b4",
   "metadata": {},
   "outputs": [
    {
     "data": {
      "text/plain": [
       "Marca\n",
       "Fabrikam                    833,646.92\n",
       "Adventure Works             264,844.42\n",
       "Contoso                      88,120.12\n",
       "Name: Lucro, dtype: float64"
      ]
     },
     "execution_count": 494,
     "metadata": {},
     "output_type": "execute_result"
    }
   ],
   "source": [
    "idloja_307.groupby(\"Marca\")[\"Lucro\"].sum().sort_values(ascending=False)"
   ]
  },
  {
   "cell_type": "code",
   "execution_count": 495,
   "id": "47dafa67",
   "metadata": {},
   "outputs": [
    {
     "data": {
      "image/png": "[encoded data removed]",
      "text/plain": [
       "<Figure size 576x396 with 1 Axes>"
      ]
     },
     "metadata": {},
     "output_type": "display_data"
    }
   ],
   "source": [
    "idloja_307.groupby(\"Marca\")[\"Lucro\"].sum().sort_values(ascending=False).plot.bar(title = \"Lucro por Marca\")\n",
    "plt.xlabel(\"Marca\")\n",
    "plt.ylabel(\"Lucro\")\n",
    "plt.xticks(rotation=\"horizontal\");"
   ]
  },
  {
   "cell_type": "markdown",
   "id": "01dd7e3a",
   "metadata": {},
   "source": [
    "##### Análise de lucro por ano"
   ]
  },
  {
   "cell_type": "code",
   "execution_count": 496,
   "id": "26ee1d0b",
   "metadata": {},
   "outputs": [
    {
     "data": {
      "text/plain": [
       "Data Venda\n",
       "2008             588,499.47\n",
       "2009             598,111.99\n",
       "Name: Lucro, dtype: float64"
      ]
     },
     "execution_count": 496,
     "metadata": {},
     "output_type": "execute_result"
    }
   ],
   "source": [
    "idloja_307.groupby(\"Data Venda\")[\"Lucro\"].sum()"
   ]
  },
  {
   "cell_type": "code",
   "execution_count": 497,
   "id": "118665cd",
   "metadata": {},
   "outputs": [
    {
     "data": {
      "text/plain": [
       "(array([0, 1]), [Text(0, 0, '2008'), Text(1, 0, '2009')])"
      ]
     },
     "execution_count": 497,
     "metadata": {},
     "output_type": "execute_result"
    },
    {
     "data": {
      "image/png": "[encoded data removed]",
      "text/plain": [
       "<Figure size 576x396 with 1 Axes>"
      ]
     },
     "metadata": {},
     "output_type": "display_data"
    }
   ],
   "source": [
    "idloja_307.groupby(\"Data Venda\")[\"Lucro\"].sum().plot.bar(title = \"Lucro por Ano\")\n",
    "plt.xlabel(\"Ano\")\n",
    "plt.ylabel(\"Lucro\")\n",
    "plt.xticks(rotation = \"horizontal\")"
   ]
  },
  {
   "cell_type": "markdown",
   "id": "78c24fa5",
   "metadata": {},
   "source": [
    "##### Análise do Lucro no ano de 2008."
   ]
  },
  {
   "cell_type": "code",
   "execution_count": 498,
   "id": "5b35e2bc",
   "metadata": {},
   "outputs": [
    {
     "data": {
      "text/plain": [
       "Mês Venda\n",
       "2               71,358.01\n",
       "4               13,690.47\n",
       "5               25,181.96\n",
       "6               73,798.19\n",
       "7               46,709.97\n",
       "8               23,064.72\n",
       "9               22,492.80\n",
       "10             128,276.94\n",
       "11              87,835.61\n",
       "12              96,090.80\n",
       "Name: Lucro, dtype: float64"
      ]
     },
     "execution_count": 498,
     "metadata": {},
     "output_type": "execute_result"
    }
   ],
   "source": [
    "idloja307_2008 = idloja_307.loc[(idloja_307[\"Data Venda\"] == 2008)]\n",
    "idloja307_2008.groupby(\"Mês Venda\")[\"Lucro\"].sum()"
   ]
  },
  {
   "cell_type": "code",
   "execution_count": 499,
   "id": "f34b817d",
   "metadata": {},
   "outputs": [
    {
     "data": {
      "image/png": "[encoded data removed]",
      "text/plain": [
       "<Figure size 576x396 with 1 Axes>"
      ]
     },
     "metadata": {},
     "output_type": "display_data"
    }
   ],
   "source": [
    "idloja307_2008.groupby(\"Mês Venda\")[\"Lucro\"].sum().plot(title = \"Análise de Lucro por Mês no ano de 2008\", marker = \"o\")\n",
    "plt.xlabel(\"Mês\")\n",
    "plt.ylabel(\"Lucro\");"
   ]
  },
  {
   "cell_type": "markdown",
   "id": "09d1acce",
   "metadata": {},
   "source": [
    "##### Análise do lucro em 2009"
   ]
  },
  {
   "cell_type": "code",
   "execution_count": 500,
   "id": "71444c1a",
   "metadata": {},
   "outputs": [
    {
     "data": {
      "text/plain": [
       "Mês Venda\n",
       "1               62,353.90\n",
       "2               45,478.11\n",
       "3               78,879.76\n",
       "4               28,593.93\n",
       "6              110,711.87\n",
       "7               95,867.13\n",
       "9               49,610.88\n",
       "10              66,106.44\n",
       "11              40,711.55\n",
       "12              19,798.41\n",
       "Name: Lucro, dtype: float64"
      ]
     },
     "execution_count": 500,
     "metadata": {},
     "output_type": "execute_result"
    }
   ],
   "source": [
    "idloja307_2009 = idloja_307.loc[(idloja_307[\"Data Venda\"] == 2009)]\n",
    "idloja307_2009.groupby(\"Mês Venda\")[\"Lucro\"].sum()\n"
   ]
  },
  {
   "cell_type": "code",
   "execution_count": 501,
   "id": "7a000bc3",
   "metadata": {},
   "outputs": [
    {
     "data": {
      "image/png": "[encoded data removed]",
      "text/plain": [
       "<Figure size 576x396 with 1 Axes>"
      ]
     },
     "metadata": {},
     "output_type": "display_data"
    }
   ],
   "source": [
    "idloja307_2009.groupby(\"Mês Venda\")[\"Lucro\"].sum().plot(title = \"Análise de Lucro por Mês no ano de 2009\", marker = \"o\")\n",
    "plt.xlabel(\"Mês\")\n",
    "plt.ylabel(\"Lucro\");"
   ]
  },
  {
   "cell_type": "markdown",
   "id": "6a5e5dd3",
   "metadata": {},
   "source": [
    "#### 2.2.6.2 Análises da ID Loja 199"
   ]
  },
  {
   "cell_type": "code",
   "execution_count": 502,
   "id": "3d10a1d5",
   "metadata": {
    "scrolled": true
   },
   "outputs": [
    {
     "data": {
      "text/html": [
       "<div>\n",
       "<style scoped>\n",
       "    .dataframe tbody tr th:only-of-type {\n",
       "        vertical-align: middle;\n",
       "    }\n",
       "\n",
       "    .dataframe tbody tr th {\n",
       "        vertical-align: top;\n",
       "    }\n",
       "\n",
       "    .dataframe thead th {\n",
       "        text-align: right;\n",
       "    }\n",
       "</style>\n",
       "<table border=\"1\" class=\"dataframe\">\n",
       "  <thead>\n",
       "    <tr style=\"text-align: right;\">\n",
       "      <th></th>\n",
       "      <th>Data Venda</th>\n",
       "      <th>ID Loja</th>\n",
       "      <th>Marca</th>\n",
       "      <th>Mês Venda</th>\n",
       "      <th>Valor Venda</th>\n",
       "      <th>Custo Total</th>\n",
       "      <th>Lucro</th>\n",
       "      <th>Valor Desconto</th>\n",
       "      <th>Quantidade</th>\n",
       "      <th>Media Tempo Envio</th>\n",
       "    </tr>\n",
       "  </thead>\n",
       "  <tbody>\n",
       "    <tr>\n",
       "      <th>0</th>\n",
       "      <td>2008</td>\n",
       "      <td>199</td>\n",
       "      <td>Adventure Works</td>\n",
       "      <td>1</td>\n",
       "      <td>14,402.00</td>\n",
       "      <td>6,971.60</td>\n",
       "      <td>7,430.40</td>\n",
       "      <td>758.00</td>\n",
       "      <td>20</td>\n",
       "      <td>9.50</td>\n",
       "    </tr>\n",
       "    <tr>\n",
       "      <th>1</th>\n",
       "      <td>2008</td>\n",
       "      <td>199</td>\n",
       "      <td>Adventure Works</td>\n",
       "      <td>2</td>\n",
       "      <td>24,483.40</td>\n",
       "      <td>11,851.72</td>\n",
       "      <td>12,631.68</td>\n",
       "      <td>1,288.60</td>\n",
       "      <td>34</td>\n",
       "      <td>10.00</td>\n",
       "    </tr>\n",
       "    <tr>\n",
       "      <th>2</th>\n",
       "      <td>2008</td>\n",
       "      <td>199</td>\n",
       "      <td>Adventure Works</td>\n",
       "      <td>3</td>\n",
       "      <td>18,002.50</td>\n",
       "      <td>8,714.50</td>\n",
       "      <td>9,288.00</td>\n",
       "      <td>947.50</td>\n",
       "      <td>25</td>\n",
       "      <td>8.75</td>\n",
       "    </tr>\n",
       "    <tr>\n",
       "      <th>3</th>\n",
       "      <td>2008</td>\n",
       "      <td>199</td>\n",
       "      <td>Adventure Works</td>\n",
       "      <td>5</td>\n",
       "      <td>4,548.00</td>\n",
       "      <td>2,091.48</td>\n",
       "      <td>2,456.52</td>\n",
       "      <td>0.00</td>\n",
       "      <td>6</td>\n",
       "      <td>20.00</td>\n",
       "    </tr>\n",
       "    <tr>\n",
       "      <th>4</th>\n",
       "      <td>2008</td>\n",
       "      <td>199</td>\n",
       "      <td>Adventure Works</td>\n",
       "      <td>6</td>\n",
       "      <td>27,288.00</td>\n",
       "      <td>12,548.88</td>\n",
       "      <td>14,739.12</td>\n",
       "      <td>0.00</td>\n",
       "      <td>36</td>\n",
       "      <td>12.00</td>\n",
       "    </tr>\n",
       "  </tbody>\n",
       "</table>\n",
       "</div>"
      ],
      "text/plain": [
       "  Data Venda ID Loja            Marca Mês Venda          Valor Venda  \\\n",
       "0       2008     199  Adventure Works         1            14,402.00   \n",
       "1       2008     199  Adventure Works         2            24,483.40   \n",
       "2       2008     199  Adventure Works         3            18,002.50   \n",
       "3       2008     199  Adventure Works         5             4,548.00   \n",
       "4       2008     199  Adventure Works         6            27,288.00   \n",
       "\n",
       "           Custo Total                Lucro       Valor Desconto  Quantidade  \\\n",
       "0             6,971.60             7,430.40               758.00          20   \n",
       "1            11,851.72            12,631.68             1,288.60          34   \n",
       "2             8,714.50             9,288.00               947.50          25   \n",
       "3             2,091.48             2,456.52                 0.00           6   \n",
       "4            12,548.88            14,739.12                 0.00          36   \n",
       "\n",
       "     Media Tempo Envio  \n",
       "0                 9.50  \n",
       "1                10.00  \n",
       "2                 8.75  \n",
       "3                20.00  \n",
       "4                12.00  "
      ]
     },
     "execution_count": 502,
     "metadata": {},
     "output_type": "execute_result"
    }
   ],
   "source": [
    "idloja_199 = df_idloja[df_idloja[\"ID Loja\"] == 199]\n",
    "idloja_199.head()"
   ]
  },
  {
   "cell_type": "markdown",
   "id": "86ae6751",
   "metadata": {},
   "source": [
    "##### Análises Gerais"
   ]
  },
  {
   "cell_type": "code",
   "execution_count": 503,
   "id": "6c5d5001",
   "metadata": {
    "scrolled": true
   },
   "outputs": [
    {
     "data": {
      "text/html": [
       "<div>\n",
       "<style scoped>\n",
       "    .dataframe tbody tr th:only-of-type {\n",
       "        vertical-align: middle;\n",
       "    }\n",
       "\n",
       "    .dataframe tbody tr th {\n",
       "        vertical-align: top;\n",
       "    }\n",
       "\n",
       "    .dataframe thead th {\n",
       "        text-align: right;\n",
       "    }\n",
       "</style>\n",
       "<table border=\"1\" class=\"dataframe\">\n",
       "  <thead>\n",
       "    <tr style=\"text-align: right;\">\n",
       "      <th></th>\n",
       "      <th>Valor Venda</th>\n",
       "      <th>Custo Total</th>\n",
       "      <th>Lucro</th>\n",
       "      <th>Valor Desconto</th>\n",
       "      <th>Quantidade</th>\n",
       "      <th>Media Tempo Envio</th>\n",
       "    </tr>\n",
       "  </thead>\n",
       "  <tbody>\n",
       "    <tr>\n",
       "      <th>count</th>\n",
       "      <td>65.00</td>\n",
       "      <td>65.00</td>\n",
       "      <td>65.00</td>\n",
       "      <td>65.00</td>\n",
       "      <td>65.00</td>\n",
       "      <td>65.00</td>\n",
       "    </tr>\n",
       "    <tr>\n",
       "      <th>mean</th>\n",
       "      <td>33,555.45</td>\n",
       "      <td>13,636.70</td>\n",
       "      <td>19,918.75</td>\n",
       "      <td>3,255.56</td>\n",
       "      <td>309.52</td>\n",
       "      <td>8.76</td>\n",
       "    </tr>\n",
       "    <tr>\n",
       "      <th>std</th>\n",
       "      <td>34,815.57</td>\n",
       "      <td>12,238.26</td>\n",
       "      <td>22,896.56</td>\n",
       "      <td>5,895.74</td>\n",
       "      <td>547.54</td>\n",
       "      <td>2.40</td>\n",
       "    </tr>\n",
       "    <tr>\n",
       "      <th>min</th>\n",
       "      <td>1,358.64</td>\n",
       "      <td>692.24</td>\n",
       "      <td>666.40</td>\n",
       "      <td>0.00</td>\n",
       "      <td>6.00</td>\n",
       "      <td>4.00</td>\n",
       "    </tr>\n",
       "    <tr>\n",
       "      <th>25%</th>\n",
       "      <td>9,096.00</td>\n",
       "      <td>4,397.76</td>\n",
       "      <td>4,670.68</td>\n",
       "      <td>0.00</td>\n",
       "      <td>29.00</td>\n",
       "      <td>7.50</td>\n",
       "    </tr>\n",
       "    <tr>\n",
       "      <th>50%</th>\n",
       "      <td>20,466.00</td>\n",
       "      <td>9,760.24</td>\n",
       "      <td>10,008.60</td>\n",
       "      <td>1,061.20</td>\n",
       "      <td>56.00</td>\n",
       "      <td>8.75</td>\n",
       "    </tr>\n",
       "    <tr>\n",
       "      <th>75%</th>\n",
       "      <td>47,364.00</td>\n",
       "      <td>17,080.42</td>\n",
       "      <td>31,464.00</td>\n",
       "      <td>3,730.27</td>\n",
       "      <td>216.00</td>\n",
       "      <td>10.00</td>\n",
       "    </tr>\n",
       "    <tr>\n",
       "      <th>max</th>\n",
       "      <td>172,512.00</td>\n",
       "      <td>57,156.66</td>\n",
       "      <td>115,355.34</td>\n",
       "      <td>33,055.20</td>\n",
       "      <td>2,808.00</td>\n",
       "      <td>20.00</td>\n",
       "    </tr>\n",
       "  </tbody>\n",
       "</table>\n",
       "</div>"
      ],
      "text/plain": [
       "               Valor Venda          Custo Total                Lucro  \\\n",
       "count                65.00                65.00                65.00   \n",
       "mean             33,555.45            13,636.70            19,918.75   \n",
       "std              34,815.57            12,238.26            22,896.56   \n",
       "min               1,358.64               692.24               666.40   \n",
       "25%               9,096.00             4,397.76             4,670.68   \n",
       "50%              20,466.00             9,760.24            10,008.60   \n",
       "75%              47,364.00            17,080.42            31,464.00   \n",
       "max             172,512.00            57,156.66           115,355.34   \n",
       "\n",
       "            Valor Desconto           Quantidade    Media Tempo Envio  \n",
       "count                65.00                65.00                65.00  \n",
       "mean              3,255.56               309.52                 8.76  \n",
       "std               5,895.74               547.54                 2.40  \n",
       "min                   0.00                 6.00                 4.00  \n",
       "25%                   0.00                29.00                 7.50  \n",
       "50%               1,061.20                56.00                 8.75  \n",
       "75%               3,730.27               216.00                10.00  \n",
       "max              33,055.20             2,808.00                20.00  "
      ]
     },
     "execution_count": 503,
     "metadata": {},
     "output_type": "execute_result"
    }
   ],
   "source": [
    "idloja_199.describe()"
   ]
  },
  {
   "cell_type": "markdown",
   "id": "1aa61ed2",
   "metadata": {},
   "source": [
    "##### Análise de custos por marca."
   ]
  },
  {
   "cell_type": "code",
   "execution_count": 504,
   "id": "667ca194",
   "metadata": {},
   "outputs": [
    {
     "data": {
      "text/plain": [
       "Marca\n",
       "Fabrikam                    574,089.33\n",
       "Adventure Works             222,045.46\n",
       "Contoso                      90,250.79\n",
       "Name: Custo Total, dtype: float64"
      ]
     },
     "execution_count": 504,
     "metadata": {},
     "output_type": "execute_result"
    }
   ],
   "source": [
    "idloja_199.groupby(\"Marca\")[\"Custo Total\"].sum().sort_values(ascending=False)"
   ]
  },
  {
   "cell_type": "code",
   "execution_count": 505,
   "id": "33939a89",
   "metadata": {},
   "outputs": [
    {
     "data": {
      "image/png": "[encoded data removed]",
      "text/plain": [
       "<Figure size 576x396 with 1 Axes>"
      ]
     },
     "metadata": {},
     "output_type": "display_data"
    }
   ],
   "source": [
    "idloja_199.groupby(\"Marca\")[\"Custo Total\"].sum().sort_values(ascending=False).plot.bar(title = \"Custo Total por Marca\")\n",
    "plt.xlabel(\"Marca\")\n",
    "plt.ylabel(\"Custo Total\")\n",
    "plt.xticks(rotation = \"horizontal\");"
   ]
  },
  {
   "cell_type": "markdown",
   "id": "2cd4994e",
   "metadata": {},
   "source": [
    "##### Análise de faturamento por marca."
   ]
  },
  {
   "cell_type": "code",
   "execution_count": 506,
   "id": "e865a378",
   "metadata": {},
   "outputs": [
    {
     "data": {
      "text/plain": [
       "Marca\n",
       "Fabrikam                  1,584,571.90\n",
       "Adventure Works             438,882.00\n",
       "Contoso                     157,650.19\n",
       "Name: Valor Venda, dtype: float64"
      ]
     },
     "execution_count": 506,
     "metadata": {},
     "output_type": "execute_result"
    }
   ],
   "source": [
    "idloja_199.groupby(\"Marca\")[\"Valor Venda\"].sum().sort_values(ascending=False)"
   ]
  },
  {
   "cell_type": "code",
   "execution_count": 507,
   "id": "e88b70fb",
   "metadata": {},
   "outputs": [
    {
     "data": {
      "image/png": "[encoded data removed]",
      "text/plain": [
       "<Figure size 576x396 with 1 Axes>"
      ]
     },
     "metadata": {},
     "output_type": "display_data"
    }
   ],
   "source": [
    "idloja_199.groupby(\"Marca\")[\"Valor Venda\"].sum().sort_values(ascending=False).plot.bar(title = \"Faturamento por Marca\")\n",
    "plt.xlabel(\"Marca\")\n",
    "plt.ylabel(\"Faturamento\")\n",
    "plt.xticks(rotation=\"horizontal\");"
   ]
  },
  {
   "cell_type": "markdown",
   "id": "3c54fabb",
   "metadata": {},
   "source": [
    "##### Análise de descontos por marca."
   ]
  },
  {
   "cell_type": "code",
   "execution_count": 508,
   "id": "7dcffb26",
   "metadata": {},
   "outputs": [
    {
     "data": {
      "text/plain": [
       "Marca\n",
       "Fabrikam                    148,165.10\n",
       "Adventure Works              43,964.00\n",
       "Contoso                      19,482.50\n",
       "Name: Valor Desconto, dtype: float64"
      ]
     },
     "execution_count": 508,
     "metadata": {},
     "output_type": "execute_result"
    }
   ],
   "source": [
    "idloja_199.groupby(\"Marca\")[\"Valor Desconto\"].sum().sort_values(ascending=False)"
   ]
  },
  {
   "cell_type": "code",
   "execution_count": 509,
   "id": "a55da85e",
   "metadata": {},
   "outputs": [
    {
     "data": {
      "image/png": "[encoded data removed]",
      "text/plain": [
       "<Figure size 576x396 with 1 Axes>"
      ]
     },
     "metadata": {},
     "output_type": "display_data"
    }
   ],
   "source": [
    "idloja_199.groupby(\"Marca\")[\"Valor Desconto\"].sum().sort_values(ascending=False).plot.bar(title = \"Total de Descontos por Marca\")\n",
    "plt.xlabel(\"Marca\")\n",
    "plt.ylabel(\"Total de Descontos\")\n",
    "plt.xticks(rotation=\"horizontal\");"
   ]
  },
  {
   "cell_type": "markdown",
   "id": "b5c31692",
   "metadata": {},
   "source": [
    "##### Análises de quantidade de produtos vendidos por marca"
   ]
  },
  {
   "cell_type": "code",
   "execution_count": 510,
   "id": "f1204669",
   "metadata": {},
   "outputs": [
    {
     "data": {
      "text/plain": [
       "Marca\n",
       "Contoso            17731\n",
       "Fabrikam            1751\n",
       "Adventure Works      637\n",
       "Name: Quantidade, dtype: int64"
      ]
     },
     "execution_count": 510,
     "metadata": {},
     "output_type": "execute_result"
    }
   ],
   "source": [
    "idloja_199.groupby(\"Marca\")[\"Quantidade\"].sum().sort_values(ascending=False)"
   ]
  },
  {
   "cell_type": "code",
   "execution_count": 511,
   "id": "51317738",
   "metadata": {},
   "outputs": [
    {
     "data": {
      "image/png": "[encoded data removed]",
      "text/plain": [
       "<Figure size 576x396 with 1 Axes>"
      ]
     },
     "metadata": {},
     "output_type": "display_data"
    }
   ],
   "source": [
    "idloja_199.groupby(\"Marca\")[\"Lucro\"].sum().sort_values(ascending=False).plot.bar(title = \"Quantidade de Produtos por Marca\")\n",
    "plt.xlabel(\"Quantidade de Produtos\")\n",
    "plt.ylabel(\"Lucro\")\n",
    "plt.xticks(rotation=\"horizontal\");"
   ]
  },
  {
   "cell_type": "markdown",
   "id": "19da0f23",
   "metadata": {},
   "source": [
    "##### Análises de lucro por marca."
   ]
  },
  {
   "cell_type": "code",
   "execution_count": 512,
   "id": "9a4f2a66",
   "metadata": {},
   "outputs": [
    {
     "data": {
      "text/plain": [
       "Marca\n",
       "Fabrikam                  1,010,482.57\n",
       "Adventure Works             216,836.54\n",
       "Contoso                      67,399.40\n",
       "Name: Lucro, dtype: float64"
      ]
     },
     "execution_count": 512,
     "metadata": {},
     "output_type": "execute_result"
    }
   ],
   "source": [
    "idloja_199.groupby(\"Marca\")[\"Lucro\"].sum().sort_values(ascending=False)"
   ]
  },
  {
   "cell_type": "code",
   "execution_count": 513,
   "id": "23053ae7",
   "metadata": {},
   "outputs": [
    {
     "data": {
      "image/png": "[encoded data removed]",
      "text/plain": [
       "<Figure size 576x396 with 1 Axes>"
      ]
     },
     "metadata": {},
     "output_type": "display_data"
    }
   ],
   "source": [
    "idloja_199.groupby(\"Marca\")[\"Lucro\"].sum().sort_values(ascending=False).plot.bar(title = \"Lucro por Marca\")\n",
    "plt.xlabel(\"Marca\")\n",
    "plt.ylabel(\"Lucro\")\n",
    "plt.xticks(rotation=\"horizontal\");"
   ]
  },
  {
   "cell_type": "markdown",
   "id": "17c196ae",
   "metadata": {},
   "source": [
    "##### Análise de lucro por ano"
   ]
  },
  {
   "cell_type": "code",
   "execution_count": 514,
   "id": "3eca32a5",
   "metadata": {},
   "outputs": [
    {
     "data": {
      "text/plain": [
       "Data Venda\n",
       "2008             738,540.81\n",
       "2009             556,177.71\n",
       "Name: Lucro, dtype: float64"
      ]
     },
     "execution_count": 514,
     "metadata": {},
     "output_type": "execute_result"
    }
   ],
   "source": [
    "idloja_199.groupby(\"Data Venda\")[\"Lucro\"].sum()"
   ]
  },
  {
   "cell_type": "code",
   "execution_count": 548,
   "id": "d4cd6c3f",
   "metadata": {},
   "outputs": [
    {
     "data": {
      "text/plain": [
       "(array([0, 1]), [Text(0, 0, '2008'), Text(1, 0, '2009')])"
      ]
     },
     "execution_count": 548,
     "metadata": {},
     "output_type": "execute_result"
    },
    {
     "data": {
      "image/png": "[encoded data removed]",
      "text/plain": [
       "<Figure size 576x396 with 1 Axes>"
      ]
     },
     "metadata": {},
     "output_type": "display_data"
    }
   ],
   "source": [
    "idloja_199.groupby(\"Data Venda\")[\"Lucro\"].sum().plot.bar(title = \"Lucro por Ano\")\n",
    "plt.xlabel(\"Ano\")\n",
    "plt.ylabel(\"Lucro\")\n",
    "plt.xticks(rotation = \"horizontal\")"
   ]
  },
  {
   "cell_type": "markdown",
   "id": "57634faf",
   "metadata": {},
   "source": [
    "##### Análise do Lucro no ano de 2008."
   ]
  },
  {
   "cell_type": "code",
   "execution_count": 525,
   "id": "b8193f33",
   "metadata": {},
   "outputs": [
    {
     "data": {
      "text/plain": [
       "Mês Venda\n",
       "1               30,178.02\n",
       "2               56,238.70\n",
       "3               25,280.86\n",
       "4               59,491.20\n",
       "5               76,988.10\n",
       "6              133,622.46\n",
       "7               48,208.08\n",
       "8               62,143.65\n",
       "9               86,552.88\n",
       "10              50,529.82\n",
       "11              49,967.14\n",
       "12              59,339.89\n",
       "Name: Lucro, dtype: float64"
      ]
     },
     "execution_count": 525,
     "metadata": {},
     "output_type": "execute_result"
    }
   ],
   "source": [
    "idloja199_2008 = idloja_199.loc[(idloja_199[\"Data Venda\"] == 2008)]\n",
    "idloja199_2008.groupby(\"Mês Venda\")[\"Lucro\"].sum()"
   ]
  },
  {
   "cell_type": "code",
   "execution_count": 526,
   "id": "e0f496f4",
   "metadata": {},
   "outputs": [
    {
     "data": {
      "image/png": "[encoded data removed]",
      "text/plain": [
       "<Figure size 576x396 with 1 Axes>"
      ]
     },
     "metadata": {},
     "output_type": "display_data"
    }
   ],
   "source": [
    "idloja199_2008.groupby(\"Mês Venda\")[\"Lucro\"].sum().plot(title = \"Análise de Lucro por Mês no ano de 2008\", marker = \"o\")\n",
    "plt.xlabel(\"Mês\")\n",
    "plt.ylabel(\"Lucro\");"
   ]
  },
  {
   "cell_type": "markdown",
   "id": "fb063b18",
   "metadata": {},
   "source": [
    "##### Análise do lucro em 2009"
   ]
  },
  {
   "cell_type": "code",
   "execution_count": 527,
   "id": "26ba42d4",
   "metadata": {},
   "outputs": [
    {
     "data": {
      "text/plain": [
       "Mês Venda\n",
       "1               27,541.13\n",
       "2               24,940.67\n",
       "3               53,569.37\n",
       "4               37,760.46\n",
       "5               29,302.08\n",
       "6               49,809.72\n",
       "7               59,771.20\n",
       "8               46,756.42\n",
       "9               34,341.74\n",
       "10              28,225.10\n",
       "11              69,162.59\n",
       "12              94,997.22\n",
       "Name: Lucro, dtype: float64"
      ]
     },
     "execution_count": 527,
     "metadata": {},
     "output_type": "execute_result"
    }
   ],
   "source": [
    "idloja199_2009 = idloja_199.loc[(idloja_199[\"Data Venda\"] == 2009)]\n",
    "idloja199_2009.groupby(\"Mês Venda\")[\"Lucro\"].sum()\n"
   ]
  },
  {
   "cell_type": "code",
   "execution_count": 528,
   "id": "e215d15c",
   "metadata": {},
   "outputs": [
    {
     "data": {
      "image/png": "[encoded data removed]",
      "text/plain": [
       "<Figure size 576x396 with 1 Axes>"
      ]
     },
     "metadata": {},
     "output_type": "display_data"
    }
   ],
   "source": [
    "idloja199_2009.groupby(\"Mês Venda\")[\"Lucro\"].sum().plot(title = \"Análise de Lucro por Mês no ano de 2009\", marker = \"o\")\n",
    "plt.xlabel(\"Mês\")\n",
    "plt.ylabel(\"Lucro\");"
   ]
  },
  {
   "cell_type": "markdown",
   "id": "0699c989",
   "metadata": {},
   "source": [
    "#### 2.2.6.3 Análises da ID Loja 306"
   ]
  },
  {
   "cell_type": "code",
   "execution_count": 529,
   "id": "2f98d175",
   "metadata": {
    "scrolled": true
   },
   "outputs": [
    {
     "data": {
      "text/html": [
       "<div>\n",
       "<style scoped>\n",
       "    .dataframe tbody tr th:only-of-type {\n",
       "        vertical-align: middle;\n",
       "    }\n",
       "\n",
       "    .dataframe tbody tr th {\n",
       "        vertical-align: top;\n",
       "    }\n",
       "\n",
       "    .dataframe thead th {\n",
       "        text-align: right;\n",
       "    }\n",
       "</style>\n",
       "<table border=\"1\" class=\"dataframe\">\n",
       "  <thead>\n",
       "    <tr style=\"text-align: right;\">\n",
       "      <th></th>\n",
       "      <th>Data Venda</th>\n",
       "      <th>ID Loja</th>\n",
       "      <th>Marca</th>\n",
       "      <th>Mês Venda</th>\n",
       "      <th>Valor Venda</th>\n",
       "      <th>Custo Total</th>\n",
       "      <th>Lucro</th>\n",
       "      <th>Valor Desconto</th>\n",
       "      <th>Quantidade</th>\n",
       "      <th>Media Tempo Envio</th>\n",
       "    </tr>\n",
       "  </thead>\n",
       "  <tbody>\n",
       "    <tr>\n",
       "      <th>30</th>\n",
       "      <td>2008</td>\n",
       "      <td>306</td>\n",
       "      <td>Adventure Works</td>\n",
       "      <td>1</td>\n",
       "      <td>6,064.00</td>\n",
       "      <td>3,485.80</td>\n",
       "      <td>2,578.20</td>\n",
       "      <td>1,516.00</td>\n",
       "      <td>10</td>\n",
       "      <td>11.00</td>\n",
       "    </tr>\n",
       "    <tr>\n",
       "      <th>31</th>\n",
       "      <td>2008</td>\n",
       "      <td>306</td>\n",
       "      <td>Adventure Works</td>\n",
       "      <td>2</td>\n",
       "      <td>15,508.68</td>\n",
       "      <td>7,668.76</td>\n",
       "      <td>7,839.92</td>\n",
       "      <td>1,167.32</td>\n",
       "      <td>22</td>\n",
       "      <td>11.00</td>\n",
       "    </tr>\n",
       "    <tr>\n",
       "      <th>32</th>\n",
       "      <td>2008</td>\n",
       "      <td>306</td>\n",
       "      <td>Adventure Works</td>\n",
       "      <td>3</td>\n",
       "      <td>16,918.56</td>\n",
       "      <td>8,365.92</td>\n",
       "      <td>8,552.64</td>\n",
       "      <td>1,273.44</td>\n",
       "      <td>24</td>\n",
       "      <td>13.00</td>\n",
       "    </tr>\n",
       "    <tr>\n",
       "      <th>33</th>\n",
       "      <td>2008</td>\n",
       "      <td>306</td>\n",
       "      <td>Adventure Works</td>\n",
       "      <td>4</td>\n",
       "      <td>20,443.26</td>\n",
       "      <td>10,108.82</td>\n",
       "      <td>10,334.44</td>\n",
       "      <td>1,538.74</td>\n",
       "      <td>29</td>\n",
       "      <td>5.00</td>\n",
       "    </tr>\n",
       "    <tr>\n",
       "      <th>34</th>\n",
       "      <td>2008</td>\n",
       "      <td>306</td>\n",
       "      <td>Adventure Works</td>\n",
       "      <td>5</td>\n",
       "      <td>18,192.00</td>\n",
       "      <td>8,365.92</td>\n",
       "      <td>9,826.08</td>\n",
       "      <td>0.00</td>\n",
       "      <td>24</td>\n",
       "      <td>5.75</td>\n",
       "    </tr>\n",
       "  </tbody>\n",
       "</table>\n",
       "</div>"
      ],
      "text/plain": [
       "   Data Venda ID Loja            Marca Mês Venda          Valor Venda  \\\n",
       "30       2008     306  Adventure Works         1             6,064.00   \n",
       "31       2008     306  Adventure Works         2            15,508.68   \n",
       "32       2008     306  Adventure Works         3            16,918.56   \n",
       "33       2008     306  Adventure Works         4            20,443.26   \n",
       "34       2008     306  Adventure Works         5            18,192.00   \n",
       "\n",
       "            Custo Total                Lucro       Valor Desconto  Quantidade  \\\n",
       "30             3,485.80             2,578.20             1,516.00          10   \n",
       "31             7,668.76             7,839.92             1,167.32          22   \n",
       "32             8,365.92             8,552.64             1,273.44          24   \n",
       "33            10,108.82            10,334.44             1,538.74          29   \n",
       "34             8,365.92             9,826.08                 0.00          24   \n",
       "\n",
       "      Media Tempo Envio  \n",
       "30                11.00  \n",
       "31                11.00  \n",
       "32                13.00  \n",
       "33                 5.00  \n",
       "34                 5.75  "
      ]
     },
     "execution_count": 529,
     "metadata": {},
     "output_type": "execute_result"
    }
   ],
   "source": [
    "idloja_306 = df_idloja[df_idloja[\"ID Loja\"] == 306]\n",
    "idloja_306.head()"
   ]
  },
  {
   "cell_type": "markdown",
   "id": "94b87c6a",
   "metadata": {},
   "source": [
    "##### Análises Gerais"
   ]
  },
  {
   "cell_type": "code",
   "execution_count": 530,
   "id": "0f9c05b8",
   "metadata": {
    "scrolled": true
   },
   "outputs": [
    {
     "data": {
      "text/html": [
       "<div>\n",
       "<style scoped>\n",
       "    .dataframe tbody tr th:only-of-type {\n",
       "        vertical-align: middle;\n",
       "    }\n",
       "\n",
       "    .dataframe tbody tr th {\n",
       "        vertical-align: top;\n",
       "    }\n",
       "\n",
       "    .dataframe thead th {\n",
       "        text-align: right;\n",
       "    }\n",
       "</style>\n",
       "<table border=\"1\" class=\"dataframe\">\n",
       "  <thead>\n",
       "    <tr style=\"text-align: right;\">\n",
       "      <th></th>\n",
       "      <th>Valor Venda</th>\n",
       "      <th>Custo Total</th>\n",
       "      <th>Lucro</th>\n",
       "      <th>Valor Desconto</th>\n",
       "      <th>Quantidade</th>\n",
       "      <th>Media Tempo Envio</th>\n",
       "    </tr>\n",
       "  </thead>\n",
       "  <tbody>\n",
       "    <tr>\n",
       "      <th>count</th>\n",
       "      <td>53.00</td>\n",
       "      <td>53.00</td>\n",
       "      <td>53.00</td>\n",
       "      <td>53.00</td>\n",
       "      <td>53.00</td>\n",
       "      <td>53.00</td>\n",
       "    </tr>\n",
       "    <tr>\n",
       "      <th>mean</th>\n",
       "      <td>32,525.54</td>\n",
       "      <td>13,346.42</td>\n",
       "      <td>19,179.12</td>\n",
       "      <td>2,982.41</td>\n",
       "      <td>230.47</td>\n",
       "      <td>8.43</td>\n",
       "    </tr>\n",
       "    <tr>\n",
       "      <th>std</th>\n",
       "      <td>34,616.66</td>\n",
       "      <td>11,930.55</td>\n",
       "      <td>23,022.08</td>\n",
       "      <td>4,296.60</td>\n",
       "      <td>412.36</td>\n",
       "      <td>2.83</td>\n",
       "    </tr>\n",
       "    <tr>\n",
       "      <th>min</th>\n",
       "      <td>767.23</td>\n",
       "      <td>488.64</td>\n",
       "      <td>278.59</td>\n",
       "      <td>0.00</td>\n",
       "      <td>5.00</td>\n",
       "      <td>4.00</td>\n",
       "    </tr>\n",
       "    <tr>\n",
       "      <th>25%</th>\n",
       "      <td>9,096.00</td>\n",
       "      <td>4,275.60</td>\n",
       "      <td>4,457.47</td>\n",
       "      <td>0.00</td>\n",
       "      <td>24.00</td>\n",
       "      <td>6.00</td>\n",
       "    </tr>\n",
       "    <tr>\n",
       "      <th>50%</th>\n",
       "      <td>16,918.56</td>\n",
       "      <td>8,714.50</td>\n",
       "      <td>9,255.52</td>\n",
       "      <td>1,167.32</td>\n",
       "      <td>48.00</td>\n",
       "      <td>9.00</td>\n",
       "    </tr>\n",
       "    <tr>\n",
       "      <th>75%</th>\n",
       "      <td>41,632.38</td>\n",
       "      <td>16,731.84</td>\n",
       "      <td>27,819.78</td>\n",
       "      <td>3,949.60</td>\n",
       "      <td>120.00</td>\n",
       "      <td>11.00</td>\n",
       "    </tr>\n",
       "    <tr>\n",
       "      <th>max</th>\n",
       "      <td>160,290.00</td>\n",
       "      <td>53,107.20</td>\n",
       "      <td>107,182.80</td>\n",
       "      <td>19,623.80</td>\n",
       "      <td>1,728.00</td>\n",
       "      <td>13.00</td>\n",
       "    </tr>\n",
       "  </tbody>\n",
       "</table>\n",
       "</div>"
      ],
      "text/plain": [
       "               Valor Venda          Custo Total                Lucro  \\\n",
       "count                53.00                53.00                53.00   \n",
       "mean             32,525.54            13,346.42            19,179.12   \n",
       "std              34,616.66            11,930.55            23,022.08   \n",
       "min                 767.23               488.64               278.59   \n",
       "25%               9,096.00             4,275.60             4,457.47   \n",
       "50%              16,918.56             8,714.50             9,255.52   \n",
       "75%              41,632.38            16,731.84            27,819.78   \n",
       "max             160,290.00            53,107.20           107,182.80   \n",
       "\n",
       "            Valor Desconto           Quantidade    Media Tempo Envio  \n",
       "count                53.00                53.00                53.00  \n",
       "mean              2,982.41               230.47                 8.43  \n",
       "std               4,296.60               412.36                 2.83  \n",
       "min                   0.00                 5.00                 4.00  \n",
       "25%                   0.00                24.00                 6.00  \n",
       "50%               1,167.32                48.00                 9.00  \n",
       "75%               3,949.60               120.00                11.00  \n",
       "max              19,623.80             1,728.00                13.00  "
      ]
     },
     "execution_count": 530,
     "metadata": {},
     "output_type": "execute_result"
    }
   ],
   "source": [
    "idloja_306.describe()"
   ]
  },
  {
   "cell_type": "markdown",
   "id": "1d8075d8",
   "metadata": {},
   "source": [
    "##### Análise de custos por marca."
   ]
  },
  {
   "cell_type": "code",
   "execution_count": 531,
   "id": "2d04d866",
   "metadata": {},
   "outputs": [
    {
     "data": {
      "text/plain": [
       "Marca\n",
       "Fabrikam                    420,537.66\n",
       "Adventure Works             234,594.34\n",
       "Contoso                      52,228.49\n",
       "Name: Custo Total, dtype: float64"
      ]
     },
     "execution_count": 531,
     "metadata": {},
     "output_type": "execute_result"
    }
   ],
   "source": [
    "idloja_306.groupby(\"Marca\")[\"Custo Total\"].sum().sort_values(ascending=False)"
   ]
  },
  {
   "cell_type": "code",
   "execution_count": 532,
   "id": "3338fdd1",
   "metadata": {},
   "outputs": [
    {
     "data": {
      "image/png": "[encoded data removed]",
      "text/plain": [
       "<Figure size 576x396 with 1 Axes>"
      ]
     },
     "metadata": {},
     "output_type": "display_data"
    }
   ],
   "source": [
    "idloja_306.groupby(\"Marca\")[\"Custo Total\"].sum().sort_values(ascending=False).plot.bar(title = \"Custo Total por Marca\")\n",
    "plt.xlabel(\"Marca\")\n",
    "plt.ylabel(\"Custo Total\")\n",
    "plt.xticks(rotation = \"horizontal\");"
   ]
  },
  {
   "cell_type": "markdown",
   "id": "ef196fab",
   "metadata": {},
   "source": [
    "##### Análise de faturamento por marca."
   ]
  },
  {
   "cell_type": "code",
   "execution_count": 533,
   "id": "0bfb8407",
   "metadata": {},
   "outputs": [
    {
     "data": {
      "text/plain": [
       "Marca\n",
       "Fabrikam                  1,167,520.07\n",
       "Adventure Works             464,949.62\n",
       "Contoso                      91,383.92\n",
       "Name: Valor Venda, dtype: float64"
      ]
     },
     "execution_count": 533,
     "metadata": {},
     "output_type": "execute_result"
    }
   ],
   "source": [
    "idloja_306.groupby(\"Marca\")[\"Valor Venda\"].sum().sort_values(ascending=False)"
   ]
  },
  {
   "cell_type": "code",
   "execution_count": 534,
   "id": "7bb393db",
   "metadata": {},
   "outputs": [
    {
     "data": {
      "image/png": "[encoded data removed]",
      "text/plain": [
       "<Figure size 576x396 with 1 Axes>"
      ]
     },
     "metadata": {},
     "output_type": "display_data"
    }
   ],
   "source": [
    "idloja_306.groupby(\"Marca\")[\"Valor Venda\"].sum().sort_values(ascending=False).plot.bar(title = \"Faturamento por Marca\")\n",
    "plt.xlabel(\"Marca\")\n",
    "plt.ylabel(\"Faturamento\")\n",
    "plt.xticks(rotation=\"horizontal\");"
   ]
  },
  {
   "cell_type": "markdown",
   "id": "62b39318",
   "metadata": {},
   "source": [
    "##### Análise de descontos por marca."
   ]
  },
  {
   "cell_type": "code",
   "execution_count": 535,
   "id": "cf65dc0d",
   "metadata": {},
   "outputs": [
    {
     "data": {
      "text/plain": [
       "Marca\n",
       "Fabrikam                    101,759.93\n",
       "Adventure Works              45,184.38\n",
       "Contoso                      11,123.47\n",
       "Name: Valor Desconto, dtype: float64"
      ]
     },
     "execution_count": 535,
     "metadata": {},
     "output_type": "execute_result"
    }
   ],
   "source": [
    "idloja_306.groupby(\"Marca\")[\"Valor Desconto\"].sum().sort_values(ascending=False)"
   ]
  },
  {
   "cell_type": "code",
   "execution_count": 536,
   "id": "f09b48a8",
   "metadata": {},
   "outputs": [
    {
     "data": {
      "image/png": "[encoded data removed]",
      "text/plain": [
       "<Figure size 576x396 with 1 Axes>"
      ]
     },
     "metadata": {},
     "output_type": "display_data"
    }
   ],
   "source": [
    "idloja_306.groupby(\"Marca\")[\"Valor Desconto\"].sum().sort_values(ascending=False).plot.bar(title = \"Total de Descontos por Marca\")\n",
    "plt.xlabel(\"Marca\")\n",
    "plt.ylabel(\"Total de Descontos\")\n",
    "plt.xticks(rotation=\"horizontal\");"
   ]
  },
  {
   "cell_type": "markdown",
   "id": "ea061ddc",
   "metadata": {},
   "source": [
    "##### Análises de quantidade de produtos vendidos por marca"
   ]
  },
  {
   "cell_type": "code",
   "execution_count": 537,
   "id": "a5cec099",
   "metadata": {},
   "outputs": [
    {
     "data": {
      "text/plain": [
       "Marca\n",
       "Contoso            10261\n",
       "Fabrikam            1281\n",
       "Adventure Works      673\n",
       "Name: Quantidade, dtype: int64"
      ]
     },
     "execution_count": 537,
     "metadata": {},
     "output_type": "execute_result"
    }
   ],
   "source": [
    "idloja_306.groupby(\"Marca\")[\"Quantidade\"].sum().sort_values(ascending=False)"
   ]
  },
  {
   "cell_type": "code",
   "execution_count": 538,
   "id": "30dc288d",
   "metadata": {},
   "outputs": [
    {
     "data": {
      "image/png": "[encoded data removed]",
      "text/plain": [
       "<Figure size 576x396 with 1 Axes>"
      ]
     },
     "metadata": {},
     "output_type": "display_data"
    }
   ],
   "source": [
    "idloja_306.groupby(\"Marca\")[\"Lucro\"].sum().sort_values(ascending=False).plot.bar(title = \"Quantidade de Produtos por Marca\")\n",
    "plt.xlabel(\"Quantidade de Produtos\")\n",
    "plt.ylabel(\"Lucro\")\n",
    "plt.xticks(rotation=\"horizontal\");"
   ]
  },
  {
   "cell_type": "markdown",
   "id": "7962ca2d",
   "metadata": {},
   "source": [
    "##### Análises de lucro por marca."
   ]
  },
  {
   "cell_type": "code",
   "execution_count": 539,
   "id": "a0e35862",
   "metadata": {},
   "outputs": [
    {
     "data": {
      "text/plain": [
       "Marca\n",
       "Fabrikam                    746,982.41\n",
       "Adventure Works             230,355.28\n",
       "Contoso                      39,155.43\n",
       "Name: Lucro, dtype: float64"
      ]
     },
     "execution_count": 539,
     "metadata": {},
     "output_type": "execute_result"
    }
   ],
   "source": [
    "idloja_306.groupby(\"Marca\")[\"Lucro\"].sum().sort_values(ascending=False)"
   ]
  },
  {
   "cell_type": "code",
   "execution_count": 540,
   "id": "7e871003",
   "metadata": {},
   "outputs": [
    {
     "data": {
      "image/png": "[encoded data removed]",
      "text/plain": [
       "<Figure size 576x396 with 1 Axes>"
      ]
     },
     "metadata": {},
     "output_type": "display_data"
    }
   ],
   "source": [
    "idloja_306.groupby(\"Marca\")[\"Lucro\"].sum().sort_values(ascending=False).plot.bar(title = \"Lucro por Marca\")\n",
    "plt.xlabel(\"Marca\")\n",
    "plt.ylabel(\"Lucro\")\n",
    "plt.xticks(rotation=\"horizontal\");"
   ]
  },
  {
   "cell_type": "markdown",
   "id": "f238486f",
   "metadata": {},
   "source": [
    "##### Análise de lucro por ano"
   ]
  },
  {
   "cell_type": "code",
   "execution_count": 541,
   "id": "14b9f67e",
   "metadata": {},
   "outputs": [
    {
     "data": {
      "text/plain": [
       "Data Venda\n",
       "2008             593,037.44\n",
       "2009             423,455.69\n",
       "Name: Lucro, dtype: float64"
      ]
     },
     "execution_count": 541,
     "metadata": {},
     "output_type": "execute_result"
    }
   ],
   "source": [
    "idloja_306.groupby(\"Data Venda\")[\"Lucro\"].sum()"
   ]
  },
  {
   "cell_type": "code",
   "execution_count": 543,
   "id": "6ad2be48",
   "metadata": {},
   "outputs": [
    {
     "data": {
      "image/png": "[encoded data removed]",
      "text/plain": [
       "<Figure size 576x396 with 1 Axes>"
      ]
     },
     "metadata": {},
     "output_type": "display_data"
    }
   ],
   "source": [
    "idloja_306.groupby(\"Data Venda\")[\"Lucro\"].sum().plot.bar(title = \"Lucro por Ano\")\n",
    "plt.xlabel(\"Ano\")\n",
    "plt.ylabel(\"Lucro\")\n",
    "plt.xticks(rotation = \"horizontal\");"
   ]
  },
  {
   "cell_type": "markdown",
   "id": "f243c164",
   "metadata": {},
   "source": [
    "##### Análise do Lucro no ano de 2008."
   ]
  },
  {
   "cell_type": "code",
   "execution_count": 544,
   "id": "80bc383b",
   "metadata": {},
   "outputs": [
    {
     "data": {
      "text/plain": [
       "Mês Venda\n",
       "1               42,455.42\n",
       "2               11,360.18\n",
       "3               75,365.46\n",
       "4               37,134.88\n",
       "5              117,596.88\n",
       "6              105,063.72\n",
       "7               70,799.58\n",
       "8               11,815.74\n",
       "9               51,578.75\n",
       "10              15,979.61\n",
       "12              53,887.23\n",
       "Name: Lucro, dtype: float64"
      ]
     },
     "execution_count": 544,
     "metadata": {},
     "output_type": "execute_result"
    }
   ],
   "source": [
    "idloja306_2008 = idloja_306.loc[(idloja_306[\"Data Venda\"] == 2008)]\n",
    "idloja306_2008.groupby(\"Mês Venda\")[\"Lucro\"].sum()"
   ]
  },
  {
   "cell_type": "code",
   "execution_count": 545,
   "id": "d6e0b0f0",
   "metadata": {},
   "outputs": [
    {
     "data": {
      "image/png": "[encoded data removed]",
      "text/plain": [
       "<Figure size 576x396 with 1 Axes>"
      ]
     },
     "metadata": {},
     "output_type": "display_data"
    }
   ],
   "source": [
    "idloja306_2008.groupby(\"Mês Venda\")[\"Lucro\"].sum().plot(title = \"Análise de Lucro por Mês no ano de 2008\", marker = \"o\")\n",
    "plt.xlabel(\"Mês\")\n",
    "plt.ylabel(\"Lucro\");"
   ]
  },
  {
   "cell_type": "markdown",
   "id": "18148738",
   "metadata": {},
   "source": [
    "##### Análise do lucro em 2009"
   ]
  },
  {
   "cell_type": "code",
   "execution_count": 546,
   "id": "df2bc803",
   "metadata": {},
   "outputs": [
    {
     "data": {
      "text/plain": [
       "Mês Venda\n",
       "1               40,824.01\n",
       "2              108,810.14\n",
       "3               15,089.12\n",
       "5               61,237.92\n",
       "6               39,788.82\n",
       "7               71,496.18\n",
       "10              36,346.51\n",
       "11              22,328.09\n",
       "12              27,534.90\n",
       "Name: Lucro, dtype: float64"
      ]
     },
     "execution_count": 546,
     "metadata": {},
     "output_type": "execute_result"
    }
   ],
   "source": [
    "idloja306_2009 = idloja_306.loc[(idloja_306[\"Data Venda\"] == 2009)]\n",
    "idloja306_2009.groupby(\"Mês Venda\")[\"Lucro\"].sum()\n"
   ]
  },
  {
   "cell_type": "code",
   "execution_count": 547,
   "id": "02f77959",
   "metadata": {},
   "outputs": [
    {
     "data": {
      "image/png": "[encoded data removed]",
      "text/plain": [
       "<Figure size 576x396 with 1 Axes>"
      ]
     },
     "metadata": {},
     "output_type": "display_data"
    }
   ],
   "source": [
    "idloja306_2009.groupby(\"Mês Venda\")[\"Lucro\"].sum().plot(title = \"Análise de Lucro por Mês no ano de 2009\", marker = \"o\")\n",
    "plt.xlabel(\"Mês\")\n",
    "plt.ylabel(\"Lucro\");"
   ]
  },
  {
   "cell_type": "code",
   "execution_count": null,
   "id": "2dff0de6",
   "metadata": {},
   "outputs": [],
   "source": []
  }
 ],
 "metadata": {
  "kernelspec": {
   "display_name": "Python 3 (ipykernel)",
   "language": "python",
   "name": "python3"
  },
  "language_info": {
   "codemirror_mode": {
    "name": "ipython",
    "version": 3
   },
   "file_extension": ".py",
   "mimetype": "text/x-python",
   "name": "python",
   "nbconvert_exporter": "python",
   "pygments_lexer": "ipython3",
   "version": "3.9.12"
  }
 },
 "nbformat": 4,
 "nbformat_minor": 5
}
